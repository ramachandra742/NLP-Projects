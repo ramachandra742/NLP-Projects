{
  "nbformat": 4,
  "nbformat_minor": 0,
  "metadata": {
    "colab": {
      "name": "Sentiment Classifier using  BERT with Huggingface Pytorch.ipynb",
      "provenance": [],
      "collapsed_sections": [],
      "mount_file_id": "1qec3uSpNYJjR_pcN-VRnuGLDoHxxYOrm",
      "authorship_tag": "ABX9TyMnJt3rezSbhlXvBQ7C85pf",
      "include_colab_link": true
    },
    "kernelspec": {
      "name": "python3",
      "display_name": "Python 3"
    },
    "accelerator": "GPU",
    "widgets": {
      "application/vnd.jupyter.widget-state+json": {
        "553a23e347c84220bdbfd36261890804": {
          "model_module": "@jupyter-widgets/controls",
          "model_name": "HBoxModel",
          "state": {
            "_view_name": "HBoxView",
            "_dom_classes": [],
            "_model_name": "HBoxModel",
            "_view_module": "@jupyter-widgets/controls",
            "_model_module_version": "1.5.0",
            "_view_count": null,
            "_view_module_version": "1.5.0",
            "box_style": "",
            "layout": "IPY_MODEL_8c1368eede44421ba36d375033965dd9",
            "_model_module": "@jupyter-widgets/controls",
            "children": [
              "IPY_MODEL_db58929a2db94aabaa9875edfbebbbe8",
              "IPY_MODEL_231127309ec94349b9ffe909814c6ddf"
            ]
          }
        },
        "8c1368eede44421ba36d375033965dd9": {
          "model_module": "@jupyter-widgets/base",
          "model_name": "LayoutModel",
          "state": {
            "_view_name": "LayoutView",
            "grid_template_rows": null,
            "right": null,
            "justify_content": null,
            "_view_module": "@jupyter-widgets/base",
            "overflow": null,
            "_model_module_version": "1.2.0",
            "_view_count": null,
            "flex_flow": null,
            "width": null,
            "min_width": null,
            "border": null,
            "align_items": null,
            "bottom": null,
            "_model_module": "@jupyter-widgets/base",
            "top": null,
            "grid_column": null,
            "overflow_y": null,
            "overflow_x": null,
            "grid_auto_flow": null,
            "grid_area": null,
            "grid_template_columns": null,
            "flex": null,
            "_model_name": "LayoutModel",
            "justify_items": null,
            "grid_row": null,
            "max_height": null,
            "align_content": null,
            "visibility": null,
            "align_self": null,
            "height": null,
            "min_height": null,
            "padding": null,
            "grid_auto_rows": null,
            "grid_gap": null,
            "max_width": null,
            "order": null,
            "_view_module_version": "1.2.0",
            "grid_template_areas": null,
            "object_position": null,
            "object_fit": null,
            "grid_auto_columns": null,
            "margin": null,
            "display": null,
            "left": null
          }
        },
        "db58929a2db94aabaa9875edfbebbbe8": {
          "model_module": "@jupyter-widgets/controls",
          "model_name": "FloatProgressModel",
          "state": {
            "_view_name": "ProgressView",
            "style": "IPY_MODEL_6a5d68ddb6f643e19fcb7d942f5cd74d",
            "_dom_classes": [],
            "description": "Downloading: 100%",
            "_model_name": "FloatProgressModel",
            "bar_style": "success",
            "max": 231508,
            "_view_module": "@jupyter-widgets/controls",
            "_model_module_version": "1.5.0",
            "value": 231508,
            "_view_count": null,
            "_view_module_version": "1.5.0",
            "orientation": "horizontal",
            "min": 0,
            "description_tooltip": null,
            "_model_module": "@jupyter-widgets/controls",
            "layout": "IPY_MODEL_e5bd5d8ca52846d3ac76e9ccce807eea"
          }
        },
        "231127309ec94349b9ffe909814c6ddf": {
          "model_module": "@jupyter-widgets/controls",
          "model_name": "HTMLModel",
          "state": {
            "_view_name": "HTMLView",
            "style": "IPY_MODEL_ce87a2ff5d2b4f00a8fe93969a86f1eb",
            "_dom_classes": [],
            "description": "",
            "_model_name": "HTMLModel",
            "placeholder": "​",
            "_view_module": "@jupyter-widgets/controls",
            "_model_module_version": "1.5.0",
            "value": " 232k/232k [00:01&lt;00:00, 167kB/s]",
            "_view_count": null,
            "_view_module_version": "1.5.0",
            "description_tooltip": null,
            "_model_module": "@jupyter-widgets/controls",
            "layout": "IPY_MODEL_6f1668eba28d48a68bac47195cf4faaa"
          }
        },
        "6a5d68ddb6f643e19fcb7d942f5cd74d": {
          "model_module": "@jupyter-widgets/controls",
          "model_name": "ProgressStyleModel",
          "state": {
            "_view_name": "StyleView",
            "_model_name": "ProgressStyleModel",
            "description_width": "initial",
            "_view_module": "@jupyter-widgets/base",
            "_model_module_version": "1.5.0",
            "_view_count": null,
            "_view_module_version": "1.2.0",
            "bar_color": null,
            "_model_module": "@jupyter-widgets/controls"
          }
        },
        "e5bd5d8ca52846d3ac76e9ccce807eea": {
          "model_module": "@jupyter-widgets/base",
          "model_name": "LayoutModel",
          "state": {
            "_view_name": "LayoutView",
            "grid_template_rows": null,
            "right": null,
            "justify_content": null,
            "_view_module": "@jupyter-widgets/base",
            "overflow": null,
            "_model_module_version": "1.2.0",
            "_view_count": null,
            "flex_flow": null,
            "width": null,
            "min_width": null,
            "border": null,
            "align_items": null,
            "bottom": null,
            "_model_module": "@jupyter-widgets/base",
            "top": null,
            "grid_column": null,
            "overflow_y": null,
            "overflow_x": null,
            "grid_auto_flow": null,
            "grid_area": null,
            "grid_template_columns": null,
            "flex": null,
            "_model_name": "LayoutModel",
            "justify_items": null,
            "grid_row": null,
            "max_height": null,
            "align_content": null,
            "visibility": null,
            "align_self": null,
            "height": null,
            "min_height": null,
            "padding": null,
            "grid_auto_rows": null,
            "grid_gap": null,
            "max_width": null,
            "order": null,
            "_view_module_version": "1.2.0",
            "grid_template_areas": null,
            "object_position": null,
            "object_fit": null,
            "grid_auto_columns": null,
            "margin": null,
            "display": null,
            "left": null
          }
        },
        "ce87a2ff5d2b4f00a8fe93969a86f1eb": {
          "model_module": "@jupyter-widgets/controls",
          "model_name": "DescriptionStyleModel",
          "state": {
            "_view_name": "StyleView",
            "_model_name": "DescriptionStyleModel",
            "description_width": "",
            "_view_module": "@jupyter-widgets/base",
            "_model_module_version": "1.5.0",
            "_view_count": null,
            "_view_module_version": "1.2.0",
            "_model_module": "@jupyter-widgets/controls"
          }
        },
        "6f1668eba28d48a68bac47195cf4faaa": {
          "model_module": "@jupyter-widgets/base",
          "model_name": "LayoutModel",
          "state": {
            "_view_name": "LayoutView",
            "grid_template_rows": null,
            "right": null,
            "justify_content": null,
            "_view_module": "@jupyter-widgets/base",
            "overflow": null,
            "_model_module_version": "1.2.0",
            "_view_count": null,
            "flex_flow": null,
            "width": null,
            "min_width": null,
            "border": null,
            "align_items": null,
            "bottom": null,
            "_model_module": "@jupyter-widgets/base",
            "top": null,
            "grid_column": null,
            "overflow_y": null,
            "overflow_x": null,
            "grid_auto_flow": null,
            "grid_area": null,
            "grid_template_columns": null,
            "flex": null,
            "_model_name": "LayoutModel",
            "justify_items": null,
            "grid_row": null,
            "max_height": null,
            "align_content": null,
            "visibility": null,
            "align_self": null,
            "height": null,
            "min_height": null,
            "padding": null,
            "grid_auto_rows": null,
            "grid_gap": null,
            "max_width": null,
            "order": null,
            "_view_module_version": "1.2.0",
            "grid_template_areas": null,
            "object_position": null,
            "object_fit": null,
            "grid_auto_columns": null,
            "margin": null,
            "display": null,
            "left": null
          }
        },
        "c261b02ed1c448c2a39114387a1a03d1": {
          "model_module": "@jupyter-widgets/controls",
          "model_name": "HBoxModel",
          "state": {
            "_view_name": "HBoxView",
            "_dom_classes": [],
            "_model_name": "HBoxModel",
            "_view_module": "@jupyter-widgets/controls",
            "_model_module_version": "1.5.0",
            "_view_count": null,
            "_view_module_version": "1.5.0",
            "box_style": "",
            "layout": "IPY_MODEL_81dc8aac0987488b9bfae17e499447fd",
            "_model_module": "@jupyter-widgets/controls",
            "children": [
              "IPY_MODEL_1d0f84c50cdf4fd8bb7f175989cb2ed9",
              "IPY_MODEL_e4698b83e7fc4fb4879810a563b33397"
            ]
          }
        },
        "81dc8aac0987488b9bfae17e499447fd": {
          "model_module": "@jupyter-widgets/base",
          "model_name": "LayoutModel",
          "state": {
            "_view_name": "LayoutView",
            "grid_template_rows": null,
            "right": null,
            "justify_content": null,
            "_view_module": "@jupyter-widgets/base",
            "overflow": null,
            "_model_module_version": "1.2.0",
            "_view_count": null,
            "flex_flow": null,
            "width": null,
            "min_width": null,
            "border": null,
            "align_items": null,
            "bottom": null,
            "_model_module": "@jupyter-widgets/base",
            "top": null,
            "grid_column": null,
            "overflow_y": null,
            "overflow_x": null,
            "grid_auto_flow": null,
            "grid_area": null,
            "grid_template_columns": null,
            "flex": null,
            "_model_name": "LayoutModel",
            "justify_items": null,
            "grid_row": null,
            "max_height": null,
            "align_content": null,
            "visibility": null,
            "align_self": null,
            "height": null,
            "min_height": null,
            "padding": null,
            "grid_auto_rows": null,
            "grid_gap": null,
            "max_width": null,
            "order": null,
            "_view_module_version": "1.2.0",
            "grid_template_areas": null,
            "object_position": null,
            "object_fit": null,
            "grid_auto_columns": null,
            "margin": null,
            "display": null,
            "left": null
          }
        },
        "1d0f84c50cdf4fd8bb7f175989cb2ed9": {
          "model_module": "@jupyter-widgets/controls",
          "model_name": "FloatProgressModel",
          "state": {
            "_view_name": "ProgressView",
            "style": "IPY_MODEL_0bfc9bd79117484a867de3221d44fb43",
            "_dom_classes": [],
            "description": "Downloading: 100%",
            "_model_name": "FloatProgressModel",
            "bar_style": "success",
            "max": 433,
            "_view_module": "@jupyter-widgets/controls",
            "_model_module_version": "1.5.0",
            "value": 433,
            "_view_count": null,
            "_view_module_version": "1.5.0",
            "orientation": "horizontal",
            "min": 0,
            "description_tooltip": null,
            "_model_module": "@jupyter-widgets/controls",
            "layout": "IPY_MODEL_4fe7d5889f574f93b6525de2258c9b64"
          }
        },
        "e4698b83e7fc4fb4879810a563b33397": {
          "model_module": "@jupyter-widgets/controls",
          "model_name": "HTMLModel",
          "state": {
            "_view_name": "HTMLView",
            "style": "IPY_MODEL_2c67de49c915447689405869710e5574",
            "_dom_classes": [],
            "description": "",
            "_model_name": "HTMLModel",
            "placeholder": "​",
            "_view_module": "@jupyter-widgets/controls",
            "_model_module_version": "1.5.0",
            "value": " 433/433 [00:30&lt;00:00, 14.2B/s]",
            "_view_count": null,
            "_view_module_version": "1.5.0",
            "description_tooltip": null,
            "_model_module": "@jupyter-widgets/controls",
            "layout": "IPY_MODEL_526da11b0c0f4f80a84d24eaf5118beb"
          }
        },
        "0bfc9bd79117484a867de3221d44fb43": {
          "model_module": "@jupyter-widgets/controls",
          "model_name": "ProgressStyleModel",
          "state": {
            "_view_name": "StyleView",
            "_model_name": "ProgressStyleModel",
            "description_width": "initial",
            "_view_module": "@jupyter-widgets/base",
            "_model_module_version": "1.5.0",
            "_view_count": null,
            "_view_module_version": "1.2.0",
            "bar_color": null,
            "_model_module": "@jupyter-widgets/controls"
          }
        },
        "4fe7d5889f574f93b6525de2258c9b64": {
          "model_module": "@jupyter-widgets/base",
          "model_name": "LayoutModel",
          "state": {
            "_view_name": "LayoutView",
            "grid_template_rows": null,
            "right": null,
            "justify_content": null,
            "_view_module": "@jupyter-widgets/base",
            "overflow": null,
            "_model_module_version": "1.2.0",
            "_view_count": null,
            "flex_flow": null,
            "width": null,
            "min_width": null,
            "border": null,
            "align_items": null,
            "bottom": null,
            "_model_module": "@jupyter-widgets/base",
            "top": null,
            "grid_column": null,
            "overflow_y": null,
            "overflow_x": null,
            "grid_auto_flow": null,
            "grid_area": null,
            "grid_template_columns": null,
            "flex": null,
            "_model_name": "LayoutModel",
            "justify_items": null,
            "grid_row": null,
            "max_height": null,
            "align_content": null,
            "visibility": null,
            "align_self": null,
            "height": null,
            "min_height": null,
            "padding": null,
            "grid_auto_rows": null,
            "grid_gap": null,
            "max_width": null,
            "order": null,
            "_view_module_version": "1.2.0",
            "grid_template_areas": null,
            "object_position": null,
            "object_fit": null,
            "grid_auto_columns": null,
            "margin": null,
            "display": null,
            "left": null
          }
        },
        "2c67de49c915447689405869710e5574": {
          "model_module": "@jupyter-widgets/controls",
          "model_name": "DescriptionStyleModel",
          "state": {
            "_view_name": "StyleView",
            "_model_name": "DescriptionStyleModel",
            "description_width": "",
            "_view_module": "@jupyter-widgets/base",
            "_model_module_version": "1.5.0",
            "_view_count": null,
            "_view_module_version": "1.2.0",
            "_model_module": "@jupyter-widgets/controls"
          }
        },
        "526da11b0c0f4f80a84d24eaf5118beb": {
          "model_module": "@jupyter-widgets/base",
          "model_name": "LayoutModel",
          "state": {
            "_view_name": "LayoutView",
            "grid_template_rows": null,
            "right": null,
            "justify_content": null,
            "_view_module": "@jupyter-widgets/base",
            "overflow": null,
            "_model_module_version": "1.2.0",
            "_view_count": null,
            "flex_flow": null,
            "width": null,
            "min_width": null,
            "border": null,
            "align_items": null,
            "bottom": null,
            "_model_module": "@jupyter-widgets/base",
            "top": null,
            "grid_column": null,
            "overflow_y": null,
            "overflow_x": null,
            "grid_auto_flow": null,
            "grid_area": null,
            "grid_template_columns": null,
            "flex": null,
            "_model_name": "LayoutModel",
            "justify_items": null,
            "grid_row": null,
            "max_height": null,
            "align_content": null,
            "visibility": null,
            "align_self": null,
            "height": null,
            "min_height": null,
            "padding": null,
            "grid_auto_rows": null,
            "grid_gap": null,
            "max_width": null,
            "order": null,
            "_view_module_version": "1.2.0",
            "grid_template_areas": null,
            "object_position": null,
            "object_fit": null,
            "grid_auto_columns": null,
            "margin": null,
            "display": null,
            "left": null
          }
        },
        "ba57e5471e86440590ae212bc4a2bab3": {
          "model_module": "@jupyter-widgets/controls",
          "model_name": "HBoxModel",
          "state": {
            "_view_name": "HBoxView",
            "_dom_classes": [],
            "_model_name": "HBoxModel",
            "_view_module": "@jupyter-widgets/controls",
            "_model_module_version": "1.5.0",
            "_view_count": null,
            "_view_module_version": "1.5.0",
            "box_style": "",
            "layout": "IPY_MODEL_3a4022baa2544751a4bc51263f4cb056",
            "_model_module": "@jupyter-widgets/controls",
            "children": [
              "IPY_MODEL_a018f488705e403a9fa2a6a42530c881",
              "IPY_MODEL_24e771dff8dd4329b77699a1d17d483a"
            ]
          }
        },
        "3a4022baa2544751a4bc51263f4cb056": {
          "model_module": "@jupyter-widgets/base",
          "model_name": "LayoutModel",
          "state": {
            "_view_name": "LayoutView",
            "grid_template_rows": null,
            "right": null,
            "justify_content": null,
            "_view_module": "@jupyter-widgets/base",
            "overflow": null,
            "_model_module_version": "1.2.0",
            "_view_count": null,
            "flex_flow": null,
            "width": null,
            "min_width": null,
            "border": null,
            "align_items": null,
            "bottom": null,
            "_model_module": "@jupyter-widgets/base",
            "top": null,
            "grid_column": null,
            "overflow_y": null,
            "overflow_x": null,
            "grid_auto_flow": null,
            "grid_area": null,
            "grid_template_columns": null,
            "flex": null,
            "_model_name": "LayoutModel",
            "justify_items": null,
            "grid_row": null,
            "max_height": null,
            "align_content": null,
            "visibility": null,
            "align_self": null,
            "height": null,
            "min_height": null,
            "padding": null,
            "grid_auto_rows": null,
            "grid_gap": null,
            "max_width": null,
            "order": null,
            "_view_module_version": "1.2.0",
            "grid_template_areas": null,
            "object_position": null,
            "object_fit": null,
            "grid_auto_columns": null,
            "margin": null,
            "display": null,
            "left": null
          }
        },
        "a018f488705e403a9fa2a6a42530c881": {
          "model_module": "@jupyter-widgets/controls",
          "model_name": "FloatProgressModel",
          "state": {
            "_view_name": "ProgressView",
            "style": "IPY_MODEL_927d0de3cc8b4b10a628fe98b3e3a5cf",
            "_dom_classes": [],
            "description": "Downloading: 100%",
            "_model_name": "FloatProgressModel",
            "bar_style": "success",
            "max": 440473133,
            "_view_module": "@jupyter-widgets/controls",
            "_model_module_version": "1.5.0",
            "value": 440473133,
            "_view_count": null,
            "_view_module_version": "1.5.0",
            "orientation": "horizontal",
            "min": 0,
            "description_tooltip": null,
            "_model_module": "@jupyter-widgets/controls",
            "layout": "IPY_MODEL_d9e8b3c0d77844c2aab4d3a41705d380"
          }
        },
        "24e771dff8dd4329b77699a1d17d483a": {
          "model_module": "@jupyter-widgets/controls",
          "model_name": "HTMLModel",
          "state": {
            "_view_name": "HTMLView",
            "style": "IPY_MODEL_1920148197dc4e95bcfbd54d8a3a041c",
            "_dom_classes": [],
            "description": "",
            "_model_name": "HTMLModel",
            "placeholder": "​",
            "_view_module": "@jupyter-widgets/controls",
            "_model_module_version": "1.5.0",
            "value": " 440M/440M [00:26&lt;00:00, 16.7MB/s]",
            "_view_count": null,
            "_view_module_version": "1.5.0",
            "description_tooltip": null,
            "_model_module": "@jupyter-widgets/controls",
            "layout": "IPY_MODEL_566574f1a4e04973910a4dc8a8ec8eaa"
          }
        },
        "927d0de3cc8b4b10a628fe98b3e3a5cf": {
          "model_module": "@jupyter-widgets/controls",
          "model_name": "ProgressStyleModel",
          "state": {
            "_view_name": "StyleView",
            "_model_name": "ProgressStyleModel",
            "description_width": "initial",
            "_view_module": "@jupyter-widgets/base",
            "_model_module_version": "1.5.0",
            "_view_count": null,
            "_view_module_version": "1.2.0",
            "bar_color": null,
            "_model_module": "@jupyter-widgets/controls"
          }
        },
        "d9e8b3c0d77844c2aab4d3a41705d380": {
          "model_module": "@jupyter-widgets/base",
          "model_name": "LayoutModel",
          "state": {
            "_view_name": "LayoutView",
            "grid_template_rows": null,
            "right": null,
            "justify_content": null,
            "_view_module": "@jupyter-widgets/base",
            "overflow": null,
            "_model_module_version": "1.2.0",
            "_view_count": null,
            "flex_flow": null,
            "width": null,
            "min_width": null,
            "border": null,
            "align_items": null,
            "bottom": null,
            "_model_module": "@jupyter-widgets/base",
            "top": null,
            "grid_column": null,
            "overflow_y": null,
            "overflow_x": null,
            "grid_auto_flow": null,
            "grid_area": null,
            "grid_template_columns": null,
            "flex": null,
            "_model_name": "LayoutModel",
            "justify_items": null,
            "grid_row": null,
            "max_height": null,
            "align_content": null,
            "visibility": null,
            "align_self": null,
            "height": null,
            "min_height": null,
            "padding": null,
            "grid_auto_rows": null,
            "grid_gap": null,
            "max_width": null,
            "order": null,
            "_view_module_version": "1.2.0",
            "grid_template_areas": null,
            "object_position": null,
            "object_fit": null,
            "grid_auto_columns": null,
            "margin": null,
            "display": null,
            "left": null
          }
        },
        "1920148197dc4e95bcfbd54d8a3a041c": {
          "model_module": "@jupyter-widgets/controls",
          "model_name": "DescriptionStyleModel",
          "state": {
            "_view_name": "StyleView",
            "_model_name": "DescriptionStyleModel",
            "description_width": "",
            "_view_module": "@jupyter-widgets/base",
            "_model_module_version": "1.5.0",
            "_view_count": null,
            "_view_module_version": "1.2.0",
            "_model_module": "@jupyter-widgets/controls"
          }
        },
        "566574f1a4e04973910a4dc8a8ec8eaa": {
          "model_module": "@jupyter-widgets/base",
          "model_name": "LayoutModel",
          "state": {
            "_view_name": "LayoutView",
            "grid_template_rows": null,
            "right": null,
            "justify_content": null,
            "_view_module": "@jupyter-widgets/base",
            "overflow": null,
            "_model_module_version": "1.2.0",
            "_view_count": null,
            "flex_flow": null,
            "width": null,
            "min_width": null,
            "border": null,
            "align_items": null,
            "bottom": null,
            "_model_module": "@jupyter-widgets/base",
            "top": null,
            "grid_column": null,
            "overflow_y": null,
            "overflow_x": null,
            "grid_auto_flow": null,
            "grid_area": null,
            "grid_template_columns": null,
            "flex": null,
            "_model_name": "LayoutModel",
            "justify_items": null,
            "grid_row": null,
            "max_height": null,
            "align_content": null,
            "visibility": null,
            "align_self": null,
            "height": null,
            "min_height": null,
            "padding": null,
            "grid_auto_rows": null,
            "grid_gap": null,
            "max_width": null,
            "order": null,
            "_view_module_version": "1.2.0",
            "grid_template_areas": null,
            "object_position": null,
            "object_fit": null,
            "grid_auto_columns": null,
            "margin": null,
            "display": null,
            "left": null
          }
        }
      }
    }
  },
  "cells": [
    {
      "cell_type": "markdown",
      "metadata": {
        "id": "view-in-github",
        "colab_type": "text"
      },
      "source": [
        "<a href=\"https://colab.research.google.com/github/ramachandra742/NLP-Projects/blob/End-to-End-Sentiment-analysis-predictor-using-Pytorch/Sentiment%20Classifier/Sentiment_Classifier_using_BERT_with_Huggingface_Pytorch.ipynb\" target=\"_parent\"><img src=\"https://colab.research.google.com/assets/colab-badge.svg\" alt=\"Open In Colab\"/></a>"
      ]
    },
    {
      "cell_type": "markdown",
      "metadata": {
        "id": "SY0Cjg5Lb1uh",
        "colab_type": "text"
      },
      "source": [
        "#### In this notebook, Sentiment analysis will be performed using BERT with Huggingface Pytorch library. To build a sentiment classifier, we scraped reviews for Top 30 Android apps in India from Google Play store using Google play scraper.\n",
        "\n",
        "### [BERT]('https://huggingface.co/transformers/model_doc/bert.html') \n",
        "It is a Bidirectional Encoding Representations from Transformers. It’s a bidirectional transformer pre-trained using a combination of masked language modeling objective and next sentence prediction on a large corpus comprising the Toronto Book Corpus and Wikipedia. It is simple & extremly powerful & open sourced by the team at [HuggingFace]('https://huggingface.co/')."
      ]
    },
    {
      "cell_type": "markdown",
      "metadata": {
        "id": "O7l-2cighx_P",
        "colab_type": "text"
      },
      "source": [
        "### **Import the required libraries**"
      ]
    },
    {
      "cell_type": "code",
      "metadata": {
        "id": "U0614OqMf-Yj",
        "colab_type": "code",
        "colab": {
          "base_uri": "https://localhost:8080/",
          "height": 391
        },
        "outputId": "14d1849a-1b3b-47f7-bc81-2b03d607ec75"
      },
      "source": [
        "#Install packages\n",
        "!pip install --q transformers\n",
        "!pip install watermark"
      ],
      "execution_count": 1,
      "outputs": [
        {
          "output_type": "stream",
          "text": [
            "\u001b[K     |████████████████████████████████| 890kB 2.8MB/s \n",
            "\u001b[K     |████████████████████████████████| 1.1MB 17.0MB/s \n",
            "\u001b[K     |████████████████████████████████| 890kB 28.3MB/s \n",
            "\u001b[K     |████████████████████████████████| 3.0MB 26.5MB/s \n",
            "\u001b[?25h  Building wheel for sacremoses (setup.py) ... \u001b[?25l\u001b[?25hdone\n",
            "Collecting watermark\n",
            "  Downloading https://files.pythonhosted.org/packages/60/fe/3ed83b6122e70dce6fe269dfd763103c333f168bf91037add73ea4fe81c2/watermark-2.0.2-py2.py3-none-any.whl\n",
            "Requirement already satisfied: ipython in /usr/local/lib/python3.6/dist-packages (from watermark) (5.5.0)\n",
            "Requirement already satisfied: setuptools>=18.5 in /usr/local/lib/python3.6/dist-packages (from ipython->watermark) (49.6.0)\n",
            "Requirement already satisfied: pexpect; sys_platform != \"win32\" in /usr/local/lib/python3.6/dist-packages (from ipython->watermark) (4.8.0)\n",
            "Requirement already satisfied: simplegeneric>0.8 in /usr/local/lib/python3.6/dist-packages (from ipython->watermark) (0.8.1)\n",
            "Requirement already satisfied: decorator in /usr/local/lib/python3.6/dist-packages (from ipython->watermark) (4.4.2)\n",
            "Requirement already satisfied: prompt-toolkit<2.0.0,>=1.0.4 in /usr/local/lib/python3.6/dist-packages (from ipython->watermark) (1.0.18)\n",
            "Requirement already satisfied: pickleshare in /usr/local/lib/python3.6/dist-packages (from ipython->watermark) (0.7.5)\n",
            "Requirement already satisfied: pygments in /usr/local/lib/python3.6/dist-packages (from ipython->watermark) (2.1.3)\n",
            "Requirement already satisfied: traitlets>=4.2 in /usr/local/lib/python3.6/dist-packages (from ipython->watermark) (4.3.3)\n",
            "Requirement already satisfied: ptyprocess>=0.5 in /usr/local/lib/python3.6/dist-packages (from pexpect; sys_platform != \"win32\"->ipython->watermark) (0.6.0)\n",
            "Requirement already satisfied: six>=1.9.0 in /usr/local/lib/python3.6/dist-packages (from prompt-toolkit<2.0.0,>=1.0.4->ipython->watermark) (1.15.0)\n",
            "Requirement already satisfied: wcwidth in /usr/local/lib/python3.6/dist-packages (from prompt-toolkit<2.0.0,>=1.0.4->ipython->watermark) (0.2.5)\n",
            "Requirement already satisfied: ipython-genutils in /usr/local/lib/python3.6/dist-packages (from traitlets>=4.2->ipython->watermark) (0.2.0)\n",
            "Installing collected packages: watermark\n",
            "Successfully installed watermark-2.0.2\n"
          ],
          "name": "stdout"
        }
      ]
    },
    {
      "cell_type": "code",
      "metadata": {
        "id": "6mfYM9UuKnot",
        "colab_type": "code",
        "colab": {
          "base_uri": "https://localhost:8080/",
          "height": 136
        },
        "outputId": "cca19409-c571-48d4-d897-c0ade2499e11"
      },
      "source": [
        "#Check installed version of packages\n",
        "%reload_ext watermark\n",
        "%watermark -v -p numpy,pandas,torch,transformers"
      ],
      "execution_count": 2,
      "outputs": [
        {
          "output_type": "stream",
          "text": [
            "CPython 3.6.9\n",
            "IPython 5.5.0\n",
            "\n",
            "numpy 1.18.5\n",
            "pandas 1.0.5\n",
            "torch 1.6.0+cu101\n",
            "transformers 3.1.0\n"
          ],
          "name": "stdout"
        }
      ]
    },
    {
      "cell_type": "code",
      "metadata": {
        "id": "I3OzRx8-jAex",
        "colab_type": "code",
        "colab": {
          "base_uri": "https://localhost:8080/",
          "height": 88
        },
        "outputId": "60844e6c-eeb8-4bfb-fa29-faa819a8c7d1"
      },
      "source": [
        "#Import required libraries \n",
        "import pandas as pd\n",
        "import numpy as np\n",
        "import seaborn as sns\n",
        "from matplotlib import rc\n",
        "from pylab import rcParams\n",
        "import matplotlib.pyplot as plt\n",
        "from textwrap import wrap\n",
        "from collections import defaultdict\n",
        "from sklearn.model_selection import train_test_split\n",
        "from sklearn.metrics import confusion_matrix, classification_report\n",
        "from sklearn.metrics import precision_recall_curve,auc\n",
        "\n",
        "\n",
        "import transformers\n",
        "from transformers import BertModel, BertTokenizerFast\n",
        "from transformers import AdamW, get_linear_schedule_with_warmup\n",
        "\n",
        "import torch\n",
        "from torch import nn,optim\n",
        "from torch.utils.data import Dataset,DataLoader\n",
        "import torch.nn as nn  \n",
        "import torch.nn.functional as F  \n",
        "device=torch.device('cuda:0' if torch.cuda.is_available() else 'cpu');\n",
        "\n",
        "%matplotlib inline\n",
        "%config InlineBackend.figure_format='retina'\n",
        "\n",
        "sns.set(style='whitegrid',palette='muted',font_scale=1.2)\n",
        "color_palette=['#01BEFE','#FFDD00','#FF7D00','#FF006D','#ADFF02','#8F00FF']\n",
        "sns.set_palette(sns.color_palette(color_palette))\n",
        "\n",
        "rcParams['figure.figsize']= 12,6\n",
        "\n",
        "import warnings\n",
        "warnings.filterwarnings('ignore')\n",
        "\n",
        "seed=42\n",
        "np.random.seed(seed)\n",
        "torch.manual_seed(seed)"
      ],
      "execution_count": 3,
      "outputs": [
        {
          "output_type": "stream",
          "text": [
            "/usr/local/lib/python3.6/dist-packages/statsmodels/tools/_testing.py:19: FutureWarning: pandas.util.testing is deprecated. Use the functions in the public API at pandas.testing instead.\n",
            "  import pandas.util.testing as tm\n"
          ],
          "name": "stderr"
        },
        {
          "output_type": "execute_result",
          "data": {
            "text/plain": [
              "<torch._C.Generator at 0x7f8fcb6d21b0>"
            ]
          },
          "metadata": {
            "tags": []
          },
          "execution_count": 3
        }
      ]
    },
    {
      "cell_type": "markdown",
      "metadata": {
        "id": "4OiWhGmcH02t",
        "colab_type": "text"
      },
      "source": [
        "#### Check GPU info on Google colab"
      ]
    },
    {
      "cell_type": "code",
      "metadata": {
        "id": "LH_IW4EWIGBN",
        "colab_type": "code",
        "colab": {
          "base_uri": "https://localhost:8080/",
          "height": 357
        },
        "outputId": "0f6decfd-43a3-4eaf-bfd1-e1b8de6889f9"
      },
      "source": [
        "!nvidia-smi"
      ],
      "execution_count": 4,
      "outputs": [
        {
          "output_type": "stream",
          "text": [
            "Sat Sep  5 06:17:49 2020       \n",
            "+-----------------------------------------------------------------------------+\n",
            "| NVIDIA-SMI 450.66       Driver Version: 418.67       CUDA Version: 10.1     |\n",
            "|-------------------------------+----------------------+----------------------+\n",
            "| GPU  Name        Persistence-M| Bus-Id        Disp.A | Volatile Uncorr. ECC |\n",
            "| Fan  Temp  Perf  Pwr:Usage/Cap|         Memory-Usage | GPU-Util  Compute M. |\n",
            "|                               |                      |               MIG M. |\n",
            "|===============================+======================+======================|\n",
            "|   0  Tesla P100-PCIE...  Off  | 00000000:00:04.0 Off |                    0 |\n",
            "| N/A   34C    P0    26W / 250W |     10MiB / 16280MiB |      0%      Default |\n",
            "|                               |                      |                 ERR! |\n",
            "+-------------------------------+----------------------+----------------------+\n",
            "                                                                               \n",
            "+-----------------------------------------------------------------------------+\n",
            "| Processes:                                                                  |\n",
            "|  GPU   GI   CI        PID   Type   Process name                  GPU Memory |\n",
            "|        ID   ID                                                   Usage      |\n",
            "|=============================================================================|\n",
            "|  No running processes found                                                 |\n",
            "+-----------------------------------------------------------------------------+\n"
          ],
          "name": "stdout"
        }
      ]
    },
    {
      "cell_type": "markdown",
      "metadata": {
        "id": "3KBG4eWPIKDF",
        "colab_type": "text"
      },
      "source": [
        "Google colab is using Tesla K80 gpu."
      ]
    },
    {
      "cell_type": "markdown",
      "metadata": {
        "id": "_s3ic-u5cR7M",
        "colab_type": "text"
      },
      "source": [
        "### Now load the scraped dataset"
      ]
    },
    {
      "cell_type": "code",
      "metadata": {
        "id": "abLuU7lVS3zQ",
        "colab_type": "code",
        "colab": {
          "base_uri": "https://localhost:8080/",
          "height": 394
        },
        "outputId": "35993a38-145f-4a65-d61f-2fb857da5903"
      },
      "source": [
        "df=pd.read_csv('/content/drive/My Drive/Colab Notebooks/Datasets/App_reviews.csv')\n",
        "df.head()"
      ],
      "execution_count": 5,
      "outputs": [
        {
          "output_type": "execute_result",
          "data": {
            "text/html": [
              "<div>\n",
              "<style scoped>\n",
              "    .dataframe tbody tr th:only-of-type {\n",
              "        vertical-align: middle;\n",
              "    }\n",
              "\n",
              "    .dataframe tbody tr th {\n",
              "        vertical-align: top;\n",
              "    }\n",
              "\n",
              "    .dataframe thead th {\n",
              "        text-align: right;\n",
              "    }\n",
              "</style>\n",
              "<table border=\"1\" class=\"dataframe\">\n",
              "  <thead>\n",
              "    <tr style=\"text-align: right;\">\n",
              "      <th></th>\n",
              "      <th>reviewId</th>\n",
              "      <th>userName</th>\n",
              "      <th>userImage</th>\n",
              "      <th>content</th>\n",
              "      <th>score</th>\n",
              "      <th>thumbsUpCount</th>\n",
              "      <th>reviewCreatedVersion</th>\n",
              "      <th>at</th>\n",
              "      <th>replyContent</th>\n",
              "      <th>repliedAt</th>\n",
              "      <th>sortOrder</th>\n",
              "      <th>appId</th>\n",
              "    </tr>\n",
              "  </thead>\n",
              "  <tbody>\n",
              "    <tr>\n",
              "      <th>0</th>\n",
              "      <td>gp:AOqpTOE2Yr0uRwtSM19o3qq9rmIciKMII4oWvQ4X-TV...</td>\n",
              "      <td>Pankaj meena</td>\n",
              "      <td>https://lh3.googleusercontent.com/a-/AOh14GiBW...</td>\n",
              "      <td>wow</td>\n",
              "      <td>5</td>\n",
              "      <td>0</td>\n",
              "      <td>NaN</td>\n",
              "      <td>2020-08-10 03:15:48</td>\n",
              "      <td>NaN</td>\n",
              "      <td>NaN</td>\n",
              "      <td>newest</td>\n",
              "      <td>0</td>\n",
              "    </tr>\n",
              "    <tr>\n",
              "      <th>1</th>\n",
              "      <td>gp:AOqpTOEyZPR2_epCDBjuEGkFxMN8Uz7uqe8vju5pDDW...</td>\n",
              "      <td>Jesna sinaan Sinaan</td>\n",
              "      <td>https://lh3.googleusercontent.com/-KFcL-CA2eWY...</td>\n",
              "      <td>Super</td>\n",
              "      <td>5</td>\n",
              "      <td>0</td>\n",
              "      <td>NaN</td>\n",
              "      <td>2020-08-10 03:15:47</td>\n",
              "      <td>NaN</td>\n",
              "      <td>NaN</td>\n",
              "      <td>newest</td>\n",
              "      <td>0</td>\n",
              "    </tr>\n",
              "    <tr>\n",
              "      <th>2</th>\n",
              "      <td>gp:AOqpTOGTrphID0mo58x978-3DDrGXp_oilgqTtrkHvO...</td>\n",
              "      <td>Manoj Verma</td>\n",
              "      <td>https://lh3.googleusercontent.com/-wi1U7m9JVYU...</td>\n",
              "      <td>Majna verna</td>\n",
              "      <td>5</td>\n",
              "      <td>0</td>\n",
              "      <td>NaN</td>\n",
              "      <td>2020-08-10 03:15:44</td>\n",
              "      <td>NaN</td>\n",
              "      <td>NaN</td>\n",
              "      <td>newest</td>\n",
              "      <td>0</td>\n",
              "    </tr>\n",
              "    <tr>\n",
              "      <th>3</th>\n",
              "      <td>gp:AOqpTOH-6Qcb54ZFIl4MJon9dFtQHjHpLbSTFmw92P8...</td>\n",
              "      <td>MUKESH KUMAR DHRUW</td>\n",
              "      <td>https://lh3.googleusercontent.com/-nEokiW8fSXA...</td>\n",
              "      <td>Nice app</td>\n",
              "      <td>5</td>\n",
              "      <td>0</td>\n",
              "      <td>NaN</td>\n",
              "      <td>2020-08-10 03:14:51</td>\n",
              "      <td>NaN</td>\n",
              "      <td>NaN</td>\n",
              "      <td>newest</td>\n",
              "      <td>0</td>\n",
              "    </tr>\n",
              "    <tr>\n",
              "      <th>4</th>\n",
              "      <td>gp:AOqpTOGX6kF5IAfLaY_ZxwA7PvPwyxONwGN24JM0jrx...</td>\n",
              "      <td>Ananya Adak</td>\n",
              "      <td>https://lh3.googleusercontent.com/a-/AOh14Gi5w...</td>\n",
              "      <td>Nice</td>\n",
              "      <td>5</td>\n",
              "      <td>0</td>\n",
              "      <td>2.7.3.156</td>\n",
              "      <td>2020-08-10 03:14:42</td>\n",
              "      <td>NaN</td>\n",
              "      <td>NaN</td>\n",
              "      <td>newest</td>\n",
              "      <td>0</td>\n",
              "    </tr>\n",
              "  </tbody>\n",
              "</table>\n",
              "</div>"
            ],
            "text/plain": [
              "                                            reviewId  ... appId\n",
              "0  gp:AOqpTOE2Yr0uRwtSM19o3qq9rmIciKMII4oWvQ4X-TV...  ...     0\n",
              "1  gp:AOqpTOEyZPR2_epCDBjuEGkFxMN8Uz7uqe8vju5pDDW...  ...     0\n",
              "2  gp:AOqpTOGTrphID0mo58x978-3DDrGXp_oilgqTtrkHvO...  ...     0\n",
              "3  gp:AOqpTOH-6Qcb54ZFIl4MJon9dFtQHjHpLbSTFmw92P8...  ...     0\n",
              "4  gp:AOqpTOGX6kF5IAfLaY_ZxwA7PvPwyxONwGN24JM0jrx...  ...     0\n",
              "\n",
              "[5 rows x 12 columns]"
            ]
          },
          "metadata": {
            "tags": []
          },
          "execution_count": 5
        }
      ]
    },
    {
      "cell_type": "code",
      "metadata": {
        "id": "z9GvE5gMddp0",
        "colab_type": "code",
        "colab": {
          "base_uri": "https://localhost:8080/",
          "height": 34
        },
        "outputId": "4dd7b227-7717-4034-a6b9-1706504f6965"
      },
      "source": [
        "df.shape"
      ],
      "execution_count": 6,
      "outputs": [
        {
          "output_type": "execute_result",
          "data": {
            "text/plain": [
              "(18000, 12)"
            ]
          },
          "metadata": {
            "tags": []
          },
          "execution_count": 6
        }
      ]
    },
    {
      "cell_type": "code",
      "metadata": {
        "id": "2E6LoJ96cuhJ",
        "colab_type": "code",
        "colab": {
          "base_uri": "https://localhost:8080/",
          "height": 34
        },
        "outputId": "a431c4ab-511e-4306-e985-a191552763d2"
      },
      "source": [
        "print(f'There are {df.shape[0]} reviews in the dataset')"
      ],
      "execution_count": 7,
      "outputs": [
        {
          "output_type": "stream",
          "text": [
            "There are 18000 reviews in the dataset\n"
          ],
          "name": "stdout"
        }
      ]
    },
    {
      "cell_type": "markdown",
      "metadata": {
        "id": "r5Bcqb9xeCTh",
        "colab_type": "text"
      },
      "source": [
        "### Let's check missing values if there are any."
      ]
    },
    {
      "cell_type": "code",
      "metadata": {
        "id": "gpeY1BHKdYea",
        "colab_type": "code",
        "colab": {
          "base_uri": "https://localhost:8080/",
          "height": 340
        },
        "outputId": "d096de19-20dd-4b33-b6b0-181e92e550c2"
      },
      "source": [
        "df.info()"
      ],
      "execution_count": 8,
      "outputs": [
        {
          "output_type": "stream",
          "text": [
            "<class 'pandas.core.frame.DataFrame'>\n",
            "RangeIndex: 18000 entries, 0 to 17999\n",
            "Data columns (total 12 columns):\n",
            " #   Column                Non-Null Count  Dtype \n",
            "---  ------                --------------  ----- \n",
            " 0   reviewId              18000 non-null  object\n",
            " 1   userName              18000 non-null  object\n",
            " 2   userImage             18000 non-null  object\n",
            " 3   content               18000 non-null  object\n",
            " 4   score                 18000 non-null  int64 \n",
            " 5   thumbsUpCount         18000 non-null  int64 \n",
            " 6   reviewCreatedVersion  13474 non-null  object\n",
            " 7   at                    18000 non-null  object\n",
            " 8   replyContent          284 non-null    object\n",
            " 9   repliedAt             284 non-null    object\n",
            " 10  sortOrder             18000 non-null  object\n",
            " 11  appId                 18000 non-null  int64 \n",
            "dtypes: int64(3), object(9)\n",
            "memory usage: 1.6+ MB\n"
          ],
          "name": "stdout"
        }
      ]
    },
    {
      "cell_type": "markdown",
      "metadata": {
        "id": "huKKKdQJeceD",
        "colab_type": "text"
      },
      "source": [
        "Oops, the attributes reviewCreatedVersion, replyContent, & repliedAt contains missing values."
      ]
    },
    {
      "cell_type": "markdown",
      "metadata": {
        "id": "23VhRuBYfah-",
        "colab_type": "text"
      },
      "source": [
        "### Do we have class imbalanced data?"
      ]
    },
    {
      "cell_type": "code",
      "metadata": {
        "id": "6Ck3iCI0eQbj",
        "colab_type": "code",
        "colab": {
          "base_uri": "https://localhost:8080/",
          "height": 416
        },
        "outputId": "6405a318-3c44-4ea5-a84f-ff06b10ea36f"
      },
      "source": [
        "sns.countplot(df.score)\n",
        "plt.xlabel('Review score')"
      ],
      "execution_count": 9,
      "outputs": [
        {
          "output_type": "execute_result",
          "data": {
            "text/plain": [
              "Text(0.5, 0, 'Review score')"
            ]
          },
          "metadata": {
            "tags": []
          },
          "execution_count": 9
        },
        {
          "output_type": "display_data",
          "data": {
            "image/png": "[encoded data removed]",
            "text/plain": [
              "<Figure size 864x432 with 1 Axes>"
            ]
          },
          "metadata": {
            "tags": [],
            "image/png": {
              "width": 753,
              "height": 382
            }
          }
        }
      ]
    },
    {
      "cell_type": "markdown",
      "metadata": {
        "id": "51iKJh6-ggpL",
        "colab_type": "text"
      },
      "source": [
        "We have highly class imbalanced data. Most of the reviews have score 5 in the dataset."
      ]
    },
    {
      "cell_type": "markdown",
      "metadata": {
        "id": "3ZsLR8mUnUi_",
        "colab_type": "text"
      },
      "source": [
        "### Let's convert our reviews into Positive & Negative sentiment."
      ]
    },
    {
      "cell_type": "code",
      "metadata": {
        "id": "OQiC6dQBgDqZ",
        "colab_type": "code",
        "colab": {
          "base_uri": "https://localhost:8080/",
          "height": 394
        },
        "outputId": "0a596b39-333f-4b6e-eb3d-dce818943944"
      },
      "source": [
        "def to_sentiment(score):\n",
        "  score=int(score)\n",
        "  if score <=4:\n",
        "    return 0\n",
        "  else :\n",
        "    return 1\n",
        "\n",
        "df['sentiment']=df.score.apply(to_sentiment)\n",
        "df.head()"
      ],
      "execution_count": 10,
      "outputs": [
        {
          "output_type": "execute_result",
          "data": {
            "text/html": [
              "<div>\n",
              "<style scoped>\n",
              "    .dataframe tbody tr th:only-of-type {\n",
              "        vertical-align: middle;\n",
              "    }\n",
              "\n",
              "    .dataframe tbody tr th {\n",
              "        vertical-align: top;\n",
              "    }\n",
              "\n",
              "    .dataframe thead th {\n",
              "        text-align: right;\n",
              "    }\n",
              "</style>\n",
              "<table border=\"1\" class=\"dataframe\">\n",
              "  <thead>\n",
              "    <tr style=\"text-align: right;\">\n",
              "      <th></th>\n",
              "      <th>reviewId</th>\n",
              "      <th>userName</th>\n",
              "      <th>userImage</th>\n",
              "      <th>content</th>\n",
              "      <th>score</th>\n",
              "      <th>thumbsUpCount</th>\n",
              "      <th>reviewCreatedVersion</th>\n",
              "      <th>at</th>\n",
              "      <th>replyContent</th>\n",
              "      <th>repliedAt</th>\n",
              "      <th>sortOrder</th>\n",
              "      <th>appId</th>\n",
              "      <th>sentiment</th>\n",
              "    </tr>\n",
              "  </thead>\n",
              "  <tbody>\n",
              "    <tr>\n",
              "      <th>0</th>\n",
              "      <td>gp:AOqpTOE2Yr0uRwtSM19o3qq9rmIciKMII4oWvQ4X-TV...</td>\n",
              "      <td>Pankaj meena</td>\n",
              "      <td>https://lh3.googleusercontent.com/a-/AOh14GiBW...</td>\n",
              "      <td>wow</td>\n",
              "      <td>5</td>\n",
              "      <td>0</td>\n",
              "      <td>NaN</td>\n",
              "      <td>2020-08-10 03:15:48</td>\n",
              "      <td>NaN</td>\n",
              "      <td>NaN</td>\n",
              "      <td>newest</td>\n",
              "      <td>0</td>\n",
              "      <td>1</td>\n",
              "    </tr>\n",
              "    <tr>\n",
              "      <th>1</th>\n",
              "      <td>gp:AOqpTOEyZPR2_epCDBjuEGkFxMN8Uz7uqe8vju5pDDW...</td>\n",
              "      <td>Jesna sinaan Sinaan</td>\n",
              "      <td>https://lh3.googleusercontent.com/-KFcL-CA2eWY...</td>\n",
              "      <td>Super</td>\n",
              "      <td>5</td>\n",
              "      <td>0</td>\n",
              "      <td>NaN</td>\n",
              "      <td>2020-08-10 03:15:47</td>\n",
              "      <td>NaN</td>\n",
              "      <td>NaN</td>\n",
              "      <td>newest</td>\n",
              "      <td>0</td>\n",
              "      <td>1</td>\n",
              "    </tr>\n",
              "    <tr>\n",
              "      <th>2</th>\n",
              "      <td>gp:AOqpTOGTrphID0mo58x978-3DDrGXp_oilgqTtrkHvO...</td>\n",
              "      <td>Manoj Verma</td>\n",
              "      <td>https://lh3.googleusercontent.com/-wi1U7m9JVYU...</td>\n",
              "      <td>Majna verna</td>\n",
              "      <td>5</td>\n",
              "      <td>0</td>\n",
              "      <td>NaN</td>\n",
              "      <td>2020-08-10 03:15:44</td>\n",
              "      <td>NaN</td>\n",
              "      <td>NaN</td>\n",
              "      <td>newest</td>\n",
              "      <td>0</td>\n",
              "      <td>1</td>\n",
              "    </tr>\n",
              "    <tr>\n",
              "      <th>3</th>\n",
              "      <td>gp:AOqpTOH-6Qcb54ZFIl4MJon9dFtQHjHpLbSTFmw92P8...</td>\n",
              "      <td>MUKESH KUMAR DHRUW</td>\n",
              "      <td>https://lh3.googleusercontent.com/-nEokiW8fSXA...</td>\n",
              "      <td>Nice app</td>\n",
              "      <td>5</td>\n",
              "      <td>0</td>\n",
              "      <td>NaN</td>\n",
              "      <td>2020-08-10 03:14:51</td>\n",
              "      <td>NaN</td>\n",
              "      <td>NaN</td>\n",
              "      <td>newest</td>\n",
              "      <td>0</td>\n",
              "      <td>1</td>\n",
              "    </tr>\n",
              "    <tr>\n",
              "      <th>4</th>\n",
              "      <td>gp:AOqpTOGX6kF5IAfLaY_ZxwA7PvPwyxONwGN24JM0jrx...</td>\n",
              "      <td>Ananya Adak</td>\n",
              "      <td>https://lh3.googleusercontent.com/a-/AOh14Gi5w...</td>\n",
              "      <td>Nice</td>\n",
              "      <td>5</td>\n",
              "      <td>0</td>\n",
              "      <td>2.7.3.156</td>\n",
              "      <td>2020-08-10 03:14:42</td>\n",
              "      <td>NaN</td>\n",
              "      <td>NaN</td>\n",
              "      <td>newest</td>\n",
              "      <td>0</td>\n",
              "      <td>1</td>\n",
              "    </tr>\n",
              "  </tbody>\n",
              "</table>\n",
              "</div>"
            ],
            "text/plain": [
              "                                            reviewId  ... sentiment\n",
              "0  gp:AOqpTOE2Yr0uRwtSM19o3qq9rmIciKMII4oWvQ4X-TV...  ...         1\n",
              "1  gp:AOqpTOEyZPR2_epCDBjuEGkFxMN8Uz7uqe8vju5pDDW...  ...         1\n",
              "2  gp:AOqpTOGTrphID0mo58x978-3DDrGXp_oilgqTtrkHvO...  ...         1\n",
              "3  gp:AOqpTOH-6Qcb54ZFIl4MJon9dFtQHjHpLbSTFmw92P8...  ...         1\n",
              "4  gp:AOqpTOGX6kF5IAfLaY_ZxwA7PvPwyxONwGN24JM0jrx...  ...         1\n",
              "\n",
              "[5 rows x 13 columns]"
            ]
          },
          "metadata": {
            "tags": []
          },
          "execution_count": 10
        }
      ]
    },
    {
      "cell_type": "code",
      "metadata": {
        "id": "XfcEp7xroQQQ",
        "colab_type": "code",
        "colab": {
          "base_uri": "https://localhost:8080/",
          "height": 399
        },
        "outputId": "759ff20b-9c8f-45c5-e8a5-02ab315c5d85"
      },
      "source": [
        "ax=sns.countplot(df.sentiment)\n",
        "plt.xlabel('Review sentiment')\n",
        "class_names=['Negative','Positive']\n",
        "ax.set_xticklabels(class_names)\n",
        "plt.show()"
      ],
      "execution_count": 11,
      "outputs": [
        {
          "output_type": "display_data",
          "data": {
            "image/png": "[encoded data removed]",
            "text/plain": [
              "<Figure size 864x432 with 1 Axes>"
            ]
          },
          "metadata": {
            "tags": [],
            "image/png": {
              "width": 753,
              "height": 382
            }
          }
        }
      ]
    },
    {
      "cell_type": "markdown",
      "metadata": {
        "id": "MUg5WDQIFoRB",
        "colab_type": "text"
      },
      "source": [
        "Still classes are not balanced. Will proceed anyway.."
      ]
    },
    {
      "cell_type": "markdown",
      "metadata": {
        "id": "BaIiQ7WEK6HK",
        "colab_type": "text"
      },
      "source": [
        "## **Data Processing**"
      ]
    },
    {
      "cell_type": "markdown",
      "metadata": {
        "id": "0BZo1ECoMPhI",
        "colab_type": "text"
      },
      "source": [
        "BERT do not process the raw text & it needs to be converted to numbers by tokenization."
      ]
    },
    {
      "cell_type": "markdown",
      "metadata": {
        "id": "J3Ph5JHSNIPA",
        "colab_type": "text"
      },
      "source": [
        "#### Let's tokenize the text data"
      ]
    },
    {
      "cell_type": "code",
      "metadata": {
        "id": "4mm0iapaEzhI",
        "colab_type": "code",
        "colab": {}
      },
      "source": [
        "Pre_trained_model='bert-base-uncased'"
      ],
      "execution_count": 12,
      "outputs": []
    },
    {
      "cell_type": "markdown",
      "metadata": {
        "id": "MZg9R3L4Ohg3",
        "colab_type": "text"
      },
      "source": [
        "Let's load a pre-trained [BertTokenizerFast]('https://huggingface.co/transformers/model_doc/bert.html#transformers.BertTokenizerFast'):"
      ]
    },
    {
      "cell_type": "code",
      "metadata": {
        "id": "NuXbQWzVOe5x",
        "colab_type": "code",
        "colab": {
          "base_uri": "https://localhost:8080/",
          "height": 66,
          "referenced_widgets": [
            "553a23e347c84220bdbfd36261890804",
            "8c1368eede44421ba36d375033965dd9",
            "db58929a2db94aabaa9875edfbebbbe8",
            "231127309ec94349b9ffe909814c6ddf",
            "6a5d68ddb6f643e19fcb7d942f5cd74d",
            "e5bd5d8ca52846d3ac76e9ccce807eea",
            "ce87a2ff5d2b4f00a8fe93969a86f1eb",
            "6f1668eba28d48a68bac47195cf4faaa"
          ]
        },
        "outputId": "15cbac00-fe66-4420-b680-dab5a9d12148"
      },
      "source": [
        "tokenizer=BertTokenizerFast.from_pretrained(Pre_trained_model)"
      ],
      "execution_count": 13,
      "outputs": [
        {
          "output_type": "display_data",
          "data": {
            "application/vnd.jupyter.widget-view+json": {
              "model_id": "553a23e347c84220bdbfd36261890804",
              "version_minor": 0,
              "version_major": 2
            },
            "text/plain": [
              "HBox(children=(FloatProgress(value=0.0, description='Downloading', max=231508.0, style=ProgressStyle(descripti…"
            ]
          },
          "metadata": {
            "tags": []
          }
        },
        {
          "output_type": "stream",
          "text": [
            "\n"
          ],
          "name": "stdout"
        }
      ]
    },
    {
      "cell_type": "markdown",
      "metadata": {
        "id": "w4iVxO5GPeSf",
        "colab_type": "text"
      },
      "source": [
        "Will use a sample text to understand tokenization process:"
      ]
    },
    {
      "cell_type": "code",
      "metadata": {
        "id": "G-AZllhOPW2D",
        "colab_type": "code",
        "colab": {
          "base_uri": "https://localhost:8080/",
          "height": 68
        },
        "outputId": "5b802e42-c397-4ffa-c06a-4f58c5fd0097"
      },
      "source": [
        "sample_text=\"The animal didn't cross the street because it was too tired\"\n",
        "\n",
        "#Convert text to tokens & token_ids\n",
        "tokens=tokenizer.tokenize(sample_text)\n",
        "token_ids=tokenizer.convert_tokens_to_ids(tokens)\n",
        "\n",
        "print(f'Sentence : {sample_text}')\n",
        "print(f'Tokens :{tokens}')\n",
        "print(f'Token IDs : {token_ids}')"
      ],
      "execution_count": 14,
      "outputs": [
        {
          "output_type": "stream",
          "text": [
            "Sentence : The animal didn't cross the street because it was too tired\n",
            "Tokens :['the', 'animal', 'didn', \"'\", 't', 'cross', 'the', 'street', 'because', 'it', 'was', 'too', 'tired']\n",
            "Token IDs : [1996, 4111, 2134, 1005, 1056, 2892, 1996, 2395, 2138, 2009, 2001, 2205, 5458]\n"
          ],
          "name": "stdout"
        }
      ]
    },
    {
      "cell_type": "markdown",
      "metadata": {
        "id": "KDnjcgaGRnnX",
        "colab_type": "text"
      },
      "source": [
        "### **Now add Special tokens**"
      ]
    },
    {
      "cell_type": "markdown",
      "metadata": {
        "id": "Xmptd8GYRudY",
        "colab_type": "text"
      },
      "source": [
        "Bert expects  special tokens for each sentence,               \n",
        "[SEP] - marker for ending of the sentence        \n",
        "[CLS] - marker for start of each sentence for sentence classification            \n",
        "[PAD] - marker for padding sentence to a specific length                    \n",
        "and everything else encodes as             \n",
        "[UNK] - marker for all tokens expect tokens in trained data."
      ]
    },
    {
      "cell_type": "code",
      "metadata": {
        "id": "UMdmQvgjREHA",
        "colab_type": "code",
        "colab": {
          "base_uri": "https://localhost:8080/",
          "height": 34
        },
        "outputId": "1774ddd4-41b4-4ff1-95e9-d4383674c2d6"
      },
      "source": [
        "encoding=tokenizer.encode_plus(\n",
        "    sample_text,\n",
        "    max_length=32,\n",
        "    add_special_tokens=True,   # 'Add [SEP] & [CLS]'\n",
        "    pad_to_max_length=True,\n",
        "    truncation=True,\n",
        "    return_attention_mask=True,  # Reurns array of 0's & 1's to distinguish padded tokens from real tokens.\n",
        "    return_token_type_ids=False,\n",
        "    return_tensors='pt'         # Returns pytorch tensors\n",
        ")\n",
        "\n",
        "encoding.keys()"
      ],
      "execution_count": 15,
      "outputs": [
        {
          "output_type": "execute_result",
          "data": {
            "text/plain": [
              "dict_keys(['input_ids', 'attention_mask'])"
            ]
          },
          "metadata": {
            "tags": []
          },
          "execution_count": 15
        }
      ]
    },
    {
      "cell_type": "markdown",
      "metadata": {
        "id": "zIamod9oa-Ko",
        "colab_type": "text"
      },
      "source": [
        "Encoding contains input_ids & attention masks of same length 32 for each sentence."
      ]
    },
    {
      "cell_type": "code",
      "metadata": {
        "id": "R-MYtiAlW_7O",
        "colab_type": "code",
        "colab": {
          "base_uri": "https://localhost:8080/",
          "height": 85
        },
        "outputId": "f69fab3d-7e99-413b-c4f6-3eef52e1dde4"
      },
      "source": [
        "# Check input_ids\n",
        "print('Maximum length of input_ids for each sentence : {}'.format(len(encoding['input_ids'][0])))\n",
        "encoding['input_ids'][0]"
      ],
      "execution_count": 16,
      "outputs": [
        {
          "output_type": "stream",
          "text": [
            "Maximum length of input_ids for each sentence : 32\n"
          ],
          "name": "stdout"
        },
        {
          "output_type": "execute_result",
          "data": {
            "text/plain": [
              "tensor([ 101, 1996, 4111, 2134, 1005, 1056, 2892, 1996, 2395, 2138, 2009, 2001,\n",
              "        2205, 5458,  102,    0,    0,    0,    0,    0,    0,    0,    0,    0,\n",
              "           0,    0,    0,    0,    0,    0,    0,    0])"
            ]
          },
          "metadata": {
            "tags": []
          },
          "execution_count": 16
        }
      ]
    },
    {
      "cell_type": "code",
      "metadata": {
        "id": "tAMZZHjfY5eV",
        "colab_type": "code",
        "colab": {
          "base_uri": "https://localhost:8080/",
          "height": 68
        },
        "outputId": "29dcd8f4-7dea-4e50-ce59-7282026bd6f7"
      },
      "source": [
        "\n",
        "#check attention mask\n",
        "print(f\"Maximum length of attention mask for each sentence : {len(encoding['attention_mask'][0])}\")\n",
        "encoding['attention_mask'][0]"
      ],
      "execution_count": 17,
      "outputs": [
        {
          "output_type": "stream",
          "text": [
            "Maximum length of attention mask for each sentence : 32\n"
          ],
          "name": "stdout"
        },
        {
          "output_type": "execute_result",
          "data": {
            "text/plain": [
              "tensor([1, 1, 1, 1, 1, 1, 1, 1, 1, 1, 1, 1, 1, 1, 1, 0, 0, 0, 0, 0, 0, 0, 0, 0,\n",
              "        0, 0, 0, 0, 0, 0, 0, 0])"
            ]
          },
          "metadata": {
            "tags": []
          },
          "execution_count": 17
        }
      ]
    },
    {
      "cell_type": "markdown",
      "metadata": {
        "id": "NK1Ym6mhcd8b",
        "colab_type": "text"
      },
      "source": [
        "#### Let's convert token_ids to tokens to look at special tokens"
      ]
    },
    {
      "cell_type": "code",
      "metadata": {
        "id": "3AsnCON0b1lC",
        "colab_type": "code",
        "colab": {
          "base_uri": "https://localhost:8080/",
          "height": 561
        },
        "outputId": "af203a5c-3caf-4717-8695-97a9d97dfab2"
      },
      "source": [
        "special_tokens=tokenizer.convert_ids_to_tokens(encoding['input_ids'][0])\n",
        "special_tokens"
      ],
      "execution_count": 18,
      "outputs": [
        {
          "output_type": "execute_result",
          "data": {
            "text/plain": [
              "['[CLS]',\n",
              " 'the',\n",
              " 'animal',\n",
              " 'didn',\n",
              " \"'\",\n",
              " 't',\n",
              " 'cross',\n",
              " 'the',\n",
              " 'street',\n",
              " 'because',\n",
              " 'it',\n",
              " 'was',\n",
              " 'too',\n",
              " 'tired',\n",
              " '[SEP]',\n",
              " '[PAD]',\n",
              " '[PAD]',\n",
              " '[PAD]',\n",
              " '[PAD]',\n",
              " '[PAD]',\n",
              " '[PAD]',\n",
              " '[PAD]',\n",
              " '[PAD]',\n",
              " '[PAD]',\n",
              " '[PAD]',\n",
              " '[PAD]',\n",
              " '[PAD]',\n",
              " '[PAD]',\n",
              " '[PAD]',\n",
              " '[PAD]',\n",
              " '[PAD]',\n",
              " '[PAD]']"
            ]
          },
          "metadata": {
            "tags": []
          },
          "execution_count": 18
        }
      ]
    },
    {
      "cell_type": "markdown",
      "metadata": {
        "id": "zDEXXb47dnHb",
        "colab_type": "text"
      },
      "source": [
        "### **Choosing Sequence length for our dataset**"
      ]
    },
    {
      "cell_type": "markdown",
      "metadata": {
        "id": "VvE_mTDt5y6m",
        "colab_type": "text"
      },
      "source": [
        "#### Let's store the token length of each review"
      ]
    },
    {
      "cell_type": "code",
      "metadata": {
        "id": "TgL-rufIdtqC",
        "colab_type": "code",
        "colab": {}
      },
      "source": [
        "token_lens=[]\n",
        "for content in df.content:\n",
        "  tokens_content=tokenizer.encode(content,max_length=150,truncation=True)\n",
        "  token_lens.append(len(tokens_content))"
      ],
      "execution_count": 19,
      "outputs": []
    },
    {
      "cell_type": "code",
      "metadata": {
        "id": "hfEzugC67gKP",
        "colab_type": "code",
        "colab": {
          "base_uri": "https://localhost:8080/",
          "height": 415
        },
        "outputId": "d4b120b5-187b-47f7-bfdb-206d8a36b189"
      },
      "source": [
        "#Plot the tokens\n",
        "sns.distplot(token_lens)\n",
        "plt.xlim([0,150])\n",
        "plt.xlabel('Token count')"
      ],
      "execution_count": 20,
      "outputs": [
        {
          "output_type": "execute_result",
          "data": {
            "text/plain": [
              "Text(0.5, 0, 'Token count')"
            ]
          },
          "metadata": {
            "tags": []
          },
          "execution_count": 20
        },
        {
          "output_type": "display_data",
          "data": {
            "image/png": "[encoded data removed]",
            "text/plain": [
              "<Figure size 864x432 with 1 Axes>"
            ]
          },
          "metadata": {
            "tags": [],
            "image/png": {
              "width": 731,
              "height": 381
            }
          }
        }
      ]
    },
    {
      "cell_type": "markdown",
      "metadata": {
        "id": "IYKrzOTsCBIr",
        "colab_type": "text"
      },
      "source": [
        "It appears that the length of most tokens lies between 3 & 30. On safer side, we are taking maximum sequence length of 100."
      ]
    },
    {
      "cell_type": "code",
      "metadata": {
        "id": "eThcaLu2BCMB",
        "colab_type": "code",
        "colab": {}
      },
      "source": [
        "Max_length=100"
      ],
      "execution_count": 21,
      "outputs": []
    },
    {
      "cell_type": "markdown",
      "metadata": {
        "id": "ccePAd9tDL7c",
        "colab_type": "text"
      },
      "source": [
        "Now let's create a **Pytorch dataset**"
      ]
    },
    {
      "cell_type": "markdown",
      "metadata": {
        "id": "cpceLJ-JVydO",
        "colab_type": "text"
      },
      "source": [
        "Pytorch dataset is of map-style i.e., it implements __getitem__  &  __len__  protocols, & represents a map from indices/keys to datasamples."
      ]
    },
    {
      "cell_type": "code",
      "metadata": {
        "id": "JyLD8GVODJoe",
        "colab_type": "code",
        "colab": {}
      },
      "source": [
        "class reviews_India_Dataset(Dataset):\n",
        "\n",
        "  def __init__(self,reviews,targets,tokenizer,max_length):\n",
        "    self.reviews=reviews\n",
        "    self.targets=targets\n",
        "    self.tokenizer=tokenizer\n",
        "    self.max_length=max_length\n",
        "\n",
        "  def __len__(self):\n",
        "    return len(self.reviews)\n",
        "\n",
        "  def __getitem__(self,item):\n",
        "    review = str(self.reviews[item])\n",
        "    targets = self.targets[item]\n",
        "\n",
        "    encoding = self.tokenizer.encode_plus(\n",
        "        review,\n",
        "        max_length=Max_length,\n",
        "        add_special_tokens=True,\n",
        "        pad_to_max_length=True,\n",
        "        truncation=True,\n",
        "        return_attention_mask=True,\n",
        "        return_token_type_ids=False,\n",
        "        return_tensors='pt'\n",
        "       )\n",
        "    return {\n",
        "        'review_text':review,\n",
        "        'input_ids':encoding['input_ids'].flatten(),\n",
        "        'attention_mask':encoding['attention_mask'].flatten(),\n",
        "        'targets' : torch.tensor(targets,dtype=torch.long)\n",
        "    }"
      ],
      "execution_count": 22,
      "outputs": []
    },
    {
      "cell_type": "markdown",
      "metadata": {
        "id": "pTADp68MJY6q",
        "colab_type": "text"
      },
      "source": [
        "### **Let's split the data**"
      ]
    },
    {
      "cell_type": "code",
      "metadata": {
        "id": "sQszuRTDJe4r",
        "colab_type": "code",
        "colab": {
          "base_uri": "https://localhost:8080/",
          "height": 85
        },
        "outputId": "b19d84f0-743d-4822-f3d4-e008922b6884"
      },
      "source": [
        "df_train,df_test=train_test_split(df, test_size=0.2, random_state=42)\n",
        "df_valid,df_test = train_test_split(df_test,test_size=0.5,random_state=42)\n",
        "\n",
        "print('Print the shape of datasets...')\n",
        "print(f'Training dataset : {df_train.shape}')\n",
        "print(f'Testing dataset : {df_test.shape}')\n",
        "print(f'Validation dataset : {df_valid.shape}')"
      ],
      "execution_count": 23,
      "outputs": [
        {
          "output_type": "stream",
          "text": [
            "Print the shape of datasets...\n",
            "Training dataset : (14400, 13)\n",
            "Testing dataset : (1800, 13)\n",
            "Validation dataset : (1800, 13)\n"
          ],
          "name": "stdout"
        }
      ]
    },
    {
      "cell_type": "markdown",
      "metadata": {
        "id": "ENXBARR6Lome",
        "colab_type": "text"
      },
      "source": [
        "#### Now will create a helper function for **Data loader**"
      ]
    },
    {
      "cell_type": "code",
      "metadata": {
        "id": "9tObB8MzK46j",
        "colab_type": "code",
        "colab": {}
      },
      "source": [
        "batch_size=32\n",
        "def data_loader(df, tokenizer, max_length, batch):\n",
        "  ds=reviews_India_Dataset(\n",
        "      reviews=df.content.to_numpy(),\n",
        "      targets=df.sentiment.to_numpy(),\n",
        "      tokenizer=tokenizer,\n",
        "      max_length=Max_length\n",
        "  )\n",
        "\n",
        "  return DataLoader(\n",
        "      ds,\n",
        "      batch_size=batch_size,\n",
        "      num_workers=4\n",
        "  )\n",
        "\n",
        "# Load datasets\n",
        "train_DataLoader=data_loader(df_train,tokenizer,Max_length,batch_size)\n",
        "test_DataLoader=data_loader(df_test,tokenizer,Max_length,batch_size)\n",
        "valid_DataLoader=data_loader(df_valid,tokenizer,Max_length,batch_size)"
      ],
      "execution_count": 24,
      "outputs": []
    },
    {
      "cell_type": "markdown",
      "metadata": {
        "id": "sGJF4L2-Z0e-",
        "colab_type": "text"
      },
      "source": [
        "#### Let's have a look at example batch from **training DataLoader**"
      ]
    },
    {
      "cell_type": "code",
      "metadata": {
        "id": "6cMZ37F4UMPL",
        "colab_type": "code",
        "colab": {
          "base_uri": "https://localhost:8080/",
          "height": 34
        },
        "outputId": "8b592844-9239-44a4-a700-04505ae24ffe"
      },
      "source": [
        "data=next(iter(train_DataLoader))\n",
        "data.keys()"
      ],
      "execution_count": 25,
      "outputs": [
        {
          "output_type": "execute_result",
          "data": {
            "text/plain": [
              "dict_keys(['review_text', 'input_ids', 'attention_mask', 'targets'])"
            ]
          },
          "metadata": {
            "tags": []
          },
          "execution_count": 25
        }
      ]
    },
    {
      "cell_type": "code",
      "metadata": {
        "id": "LxgCkEbebxWI",
        "colab_type": "code",
        "colab": {
          "base_uri": "https://localhost:8080/",
          "height": 85
        },
        "outputId": "7adf1eef-270e-4338-985b-fe511be8670f"
      },
      "source": [
        "print('Shape of the data keys...')\n",
        "print(f\"Input_ids : {data['input_ids'].shape}\")\n",
        "print(f\"Attention_mask : {data['attention_mask'].shape}\")\n",
        "print(f\"targets : {data['targets'].shape}\")"
      ],
      "execution_count": 26,
      "outputs": [
        {
          "output_type": "stream",
          "text": [
            "Shape of the data keys...\n",
            "Input_ids : torch.Size([32, 100])\n",
            "Attention_mask : torch.Size([32, 100])\n",
            "targets : torch.Size([32])\n"
          ],
          "name": "stdout"
        }
      ]
    },
    {
      "cell_type": "markdown",
      "metadata": {
        "id": "5ZnjqKW0hl-b",
        "colab_type": "text"
      },
      "source": [
        "## Let's build a Sentiment Classifier"
      ]
    },
    {
      "cell_type": "markdown",
      "metadata": {
        "id": "qtcusMOG-h9U",
        "colab_type": "text"
      },
      "source": [
        "#### Let's load the basic BERT model"
      ]
    },
    {
      "cell_type": "code",
      "metadata": {
        "id": "TEWEZu2-3pMR",
        "colab_type": "code",
        "colab": {
          "base_uri": "https://localhost:8080/",
          "height": 115,
          "referenced_widgets": [
            "c261b02ed1c448c2a39114387a1a03d1",
            "81dc8aac0987488b9bfae17e499447fd",
            "1d0f84c50cdf4fd8bb7f175989cb2ed9",
            "e4698b83e7fc4fb4879810a563b33397",
            "0bfc9bd79117484a867de3221d44fb43",
            "4fe7d5889f574f93b6525de2258c9b64",
            "2c67de49c915447689405869710e5574",
            "526da11b0c0f4f80a84d24eaf5118beb",
            "ba57e5471e86440590ae212bc4a2bab3",
            "3a4022baa2544751a4bc51263f4cb056",
            "a018f488705e403a9fa2a6a42530c881",
            "24e771dff8dd4329b77699a1d17d483a",
            "927d0de3cc8b4b10a628fe98b3e3a5cf",
            "d9e8b3c0d77844c2aab4d3a41705d380",
            "1920148197dc4e95bcfbd54d8a3a041c",
            "566574f1a4e04973910a4dc8a8ec8eaa"
          ]
        },
        "outputId": "11adf8f8-6691-42c1-cca2-f50499458b11"
      },
      "source": [
        "bert_model = BertModel.from_pretrained(Pre_trained_model)"
      ],
      "execution_count": 27,
      "outputs": [
        {
          "output_type": "display_data",
          "data": {
            "application/vnd.jupyter.widget-view+json": {
              "model_id": "c261b02ed1c448c2a39114387a1a03d1",
              "version_minor": 0,
              "version_major": 2
            },
            "text/plain": [
              "HBox(children=(FloatProgress(value=0.0, description='Downloading', max=433.0, style=ProgressStyle(description_…"
            ]
          },
          "metadata": {
            "tags": []
          }
        },
        {
          "output_type": "stream",
          "text": [
            "\n"
          ],
          "name": "stdout"
        },
        {
          "output_type": "display_data",
          "data": {
            "application/vnd.jupyter.widget-view+json": {
              "model_id": "ba57e5471e86440590ae212bc4a2bab3",
              "version_minor": 0,
              "version_major": 2
            },
            "text/plain": [
              "HBox(children=(FloatProgress(value=0.0, description='Downloading', max=440473133.0, style=ProgressStyle(descri…"
            ]
          },
          "metadata": {
            "tags": []
          }
        },
        {
          "output_type": "stream",
          "text": [
            "\n"
          ],
          "name": "stdout"
        }
      ]
    },
    {
      "cell_type": "markdown",
      "metadata": {
        "id": "cge2eSIEBYKQ",
        "colab_type": "text"
      },
      "source": [
        "Now create a classifier that uses BERT model"
      ]
    },
    {
      "cell_type": "code",
      "metadata": {
        "id": "3saSV0VDAjdi",
        "colab_type": "code",
        "colab": {}
      },
      "source": [
        "class SentimentClassifier(nn.Module):\n",
        "  def __init__(self, n_classes):\n",
        "    super(SentimentClassifier, self).__init__()\n",
        "    self.bert = BertModel.from_pretrained(Pre_trained_model)\n",
        "    self.drop = nn.Dropout(p=0.5)\n",
        "    self.out = nn.Linear(self.bert.config.hidden_size, n_classes)\n",
        "  def forward(self, input_ids, attention_mask):\n",
        "    _, pooled_output = self.bert(\n",
        "      input_ids=input_ids,\n",
        "      attention_mask=attention_mask\n",
        "    )\n",
        "    output = self.drop(pooled_output)\n",
        "    return self.out(output)"
      ],
      "execution_count": 28,
      "outputs": []
    },
    {
      "cell_type": "markdown",
      "metadata": {
        "id": "X_E-60SUCFMK",
        "colab_type": "text"
      },
      "source": [
        "The **pooled_output** is a summary of the content, according to BERT & it is obtained by applying **BertPooler** on **last_hidden_state.**      \n",
        "We are using a **dropout layer** for some regularization and a **fully-connected layer** for our output."
      ]
    },
    {
      "cell_type": "markdown",
      "metadata": {
        "id": "4HjY-C8UDLYp",
        "colab_type": "text"
      },
      "source": [
        "### Let’s create an instance and move it to the GPU"
      ]
    },
    {
      "cell_type": "code",
      "metadata": {
        "id": "lonuc6gVB-Kt",
        "colab_type": "code",
        "colab": {}
      },
      "source": [
        "model = SentimentClassifier(len(class_names))         #Create an instance / object\n",
        "model = model.to(device)                              # Move instance to GPU           "
      ],
      "execution_count": 29,
      "outputs": []
    },
    {
      "cell_type": "markdown",
      "metadata": {
        "id": "agVrhZheD2uG",
        "colab_type": "text"
      },
      "source": [
        "Now move the  batch training data to the GPU:"
      ]
    },
    {
      "cell_type": "code",
      "metadata": {
        "id": "x5lENsyaDrQY",
        "colab_type": "code",
        "colab": {
          "base_uri": "https://localhost:8080/",
          "height": 51
        },
        "outputId": "5e63c97a-1b3a-45e5-d065-4ec490e44674"
      },
      "source": [
        "input_ids = data['input_ids'].to(device)\n",
        "attention_mask = data['attention_mask'].to(device)\n",
        "print(input_ids.shape)      # batch size x seq length\n",
        "print(attention_mask.shape) # batch size x seq length"
      ],
      "execution_count": 30,
      "outputs": [
        {
          "output_type": "stream",
          "text": [
            "torch.Size([32, 100])\n",
            "torch.Size([32, 100])\n"
          ],
          "name": "stdout"
        }
      ]
    },
    {
      "cell_type": "markdown",
      "metadata": {
        "id": "siQsiq-iEZ-K",
        "colab_type": "text"
      },
      "source": [
        "Apply softmax function to outputs to get the predicted probabilities from our trained model."
      ]
    },
    {
      "cell_type": "code",
      "metadata": {
        "id": "P3VJR78GES7f",
        "colab_type": "code",
        "colab": {
          "base_uri": "https://localhost:8080/",
          "height": 561
        },
        "outputId": "a60d6fc7-d9be-40d9-e829-a13c899a5c03"
      },
      "source": [
        "F.softmax(model(input_ids,attention_mask), dim=1)"
      ],
      "execution_count": 31,
      "outputs": [
        {
          "output_type": "execute_result",
          "data": {
            "text/plain": [
              "tensor([[0.5007, 0.4993],\n",
              "        [0.5157, 0.4843],\n",
              "        [0.5978, 0.4022],\n",
              "        [0.6417, 0.3583],\n",
              "        [0.3159, 0.6841],\n",
              "        [0.6252, 0.3748],\n",
              "        [0.3908, 0.6092],\n",
              "        [0.7216, 0.2784],\n",
              "        [0.4637, 0.5363],\n",
              "        [0.6088, 0.3912],\n",
              "        [0.5829, 0.4171],\n",
              "        [0.6474, 0.3526],\n",
              "        [0.4393, 0.5607],\n",
              "        [0.4355, 0.5645],\n",
              "        [0.5535, 0.4465],\n",
              "        [0.6584, 0.3416],\n",
              "        [0.4583, 0.5417],\n",
              "        [0.5741, 0.4259],\n",
              "        [0.4362, 0.5638],\n",
              "        [0.5383, 0.4617],\n",
              "        [0.6587, 0.3413],\n",
              "        [0.4157, 0.5843],\n",
              "        [0.5362, 0.4638],\n",
              "        [0.4192, 0.5808],\n",
              "        [0.4842, 0.5158],\n",
              "        [0.5078, 0.4922],\n",
              "        [0.6332, 0.3668],\n",
              "        [0.8156, 0.1844],\n",
              "        [0.5684, 0.4316],\n",
              "        [0.5828, 0.4172],\n",
              "        [0.4275, 0.5725],\n",
              "        [0.5687, 0.4313]], device='cuda:0', grad_fn=<SoftmaxBackward>)"
            ]
          },
          "metadata": {
            "tags": []
          },
          "execution_count": 31
        }
      ]
    },
    {
      "cell_type": "markdown",
      "metadata": {
        "id": "QKCipoMnioeM",
        "colab_type": "text"
      },
      "source": [
        "# Let's train our sentiment classifier"
      ]
    },
    {
      "cell_type": "markdown",
      "metadata": {
        "id": "YUmcQYHBi3Xg",
        "colab_type": "text"
      },
      "source": [
        "As per original paper on BERT, we will use [AdamW]('https://huggingface.co/transformers/main_classes/optimizer_schedules.html#adamw') optimizer for correcting weight decay. We will also use, linear scheduler with no warm up steps:"
      ]
    },
    {
      "cell_type": "code",
      "metadata": {
        "id": "Dw8XhH-kj4JE",
        "colab_type": "code",
        "colab": {}
      },
      "source": [
        "epochs=5\n",
        "optimizer=AdamW(model.parameters(),lr=2e-5,correct_bias=False)\n",
        "total_steps=len(train_DataLoader)*epochs\n",
        "\n",
        "scheduler=get_linear_schedule_with_warmup(\n",
        "    optimizer,\n",
        "    num_warmup_steps=0,\n",
        "    num_training_steps=total_steps\n",
        ")\n",
        "\n",
        "loss_fn=nn.CrossEntropyLoss().to(device)"
      ],
      "execution_count": 32,
      "outputs": []
    },
    {
      "cell_type": "markdown",
      "metadata": {
        "id": "rHcniPACp508",
        "colab_type": "text"
      },
      "source": [
        "Now write a helper function to train our model:"
      ]
    },
    {
      "cell_type": "code",
      "metadata": {
        "id": "WKTWo3TdjKep",
        "colab_type": "code",
        "colab": {}
      },
      "source": [
        "def train(\n",
        "  model,\n",
        "  data_loader,\n",
        "  loss_fn,\n",
        "  optimizer,\n",
        "  device,\n",
        "  scheduler,\n",
        "  n_observations\n",
        "):\n",
        "  model = model.train()\n",
        "  losses = []\n",
        "  correct_predictions = 0\n",
        "  for d in data_loader:\n",
        "    input_ids = d[\"input_ids\"].to(device)\n",
        "    attention_mask = d[\"attention_mask\"].to(device)\n",
        "    targets = d[\"targets\"].to(device)\n",
        "    #Feed data to BERT model\n",
        "    outputs = model(\n",
        "      input_ids=input_ids,\n",
        "      attention_mask=attention_mask\n",
        "    )\n",
        "    _, preds = torch.max(outputs, dim=1)\n",
        "    loss = loss_fn(outputs, targets)\n",
        "    correct_predictions += torch.sum(preds == targets)\n",
        "    losses.append(loss.item())\n",
        "    loss.backward()\n",
        "    nn.utils.clip_grad_norm_(model.parameters(), max_norm=1.0)     # Clip gradients to avoid exploding gradient problem\n",
        "    optimizer.step()\n",
        "    scheduler.step()\n",
        "    optimizer.zero_grad()\n",
        "  return correct_predictions.double() / n_observations, np.mean(losses)"
      ],
      "execution_count": 33,
      "outputs": []
    },
    {
      "cell_type": "markdown",
      "metadata": {
        "id": "-gjX1egIqvsX",
        "colab_type": "text"
      },
      "source": [
        "Similarly, write a helper function to evaluate our model:"
      ]
    },
    {
      "cell_type": "code",
      "metadata": {
        "id": "V6P6DHrPnJy_",
        "colab_type": "code",
        "colab": {}
      },
      "source": [
        "def eval_model(model, data_loader,device,loss_fn, n_observations):\n",
        "  model = model.eval()\n",
        "  losses = []\n",
        "  correct_predictions = 0\n",
        "  with torch.no_grad():\n",
        "    for d in data_loader:\n",
        "      input_ids = d[\"input_ids\"].to(device)\n",
        "      attention_mask = d[\"attention_mask\"].to(device)\n",
        "      targets = d[\"targets\"].to(device)\n",
        "      # Feed data to BERT model\n",
        "      outputs = model(\n",
        "        input_ids=input_ids,\n",
        "        attention_mask=attention_mask\n",
        "      )\n",
        "      _, preds = torch.max(outputs, dim=1)\n",
        "      loss = loss_fn(outputs, targets)\n",
        "      correct_predictions += torch.sum(preds == targets)\n",
        "      losses.append(loss.item())\n",
        "  return correct_predictions.double() / n_observations, np.mean(losses)"
      ],
      "execution_count": 34,
      "outputs": []
    },
    {
      "cell_type": "markdown",
      "metadata": {
        "id": "smGTpkJ3rNFi",
        "colab_type": "text"
      },
      "source": [
        "Using above helper functions, write our training loop & store training history:"
      ]
    },
    {
      "cell_type": "code",
      "metadata": {
        "id": "2WpymyiEnTA3",
        "colab_type": "code",
        "colab": {
          "base_uri": "https://localhost:8080/",
          "height": 476
        },
        "outputId": "dacb8cf1-edcd-46e7-d474-1d6d589c897e"
      },
      "source": [
        "%%time\n",
        "history = defaultdict(list)\n",
        "best_accuracy = 0\n",
        "for epoch in range(epochs):\n",
        "  print(f'Epoch {epoch + 1}/{epochs}')\n",
        "  print('-' * 10)\n",
        "  train_acc, train_loss = train(\n",
        "    model,\n",
        "    train_DataLoader,\n",
        "    loss_fn,\n",
        "    optimizer,\n",
        "    device,\n",
        "    scheduler,\n",
        "    len(df_train)\n",
        "  )\n",
        "  print(f'Train loss {train_loss} accuracy {train_acc}')\n",
        "  val_acc, val_loss = eval_model(\n",
        "    model,\n",
        "    valid_DataLoader,\n",
        "    device,\n",
        "    loss_fn,\n",
        "    len(df_valid)\n",
        "  )\n",
        "  print(f'Validation  loss {val_loss} accuracy {val_acc}')\n",
        "  print()\n",
        "  history['train_acc'].append(train_acc)\n",
        "  history['train_loss'].append(train_loss)\n",
        "  history['val_acc'].append(val_acc)\n",
        "  history['val_loss'].append(val_loss)\n",
        "  if val_acc > best_accuracy:\n",
        "    torch.save(model.state_dict(), 'best_model_state.bin')\n",
        "    best_accuracy = val_acc"
      ],
      "execution_count": 35,
      "outputs": [
        {
          "output_type": "stream",
          "text": [
            "Epoch 1/5\n",
            "----------\n",
            "Train loss 0.46963970763815777 accuracy 0.8001388888888888\n",
            "Validation  loss 0.37357572243924725 accuracy 0.85\n",
            "\n",
            "Epoch 2/5\n",
            "----------\n",
            "Train loss 0.31569948352045485 accuracy 0.8766666666666667\n",
            "Validation  loss 0.36211415406381875 accuracy 0.8661111111111112\n",
            "\n",
            "Epoch 3/5\n",
            "----------\n",
            "Train loss 0.2669334198037783 accuracy 0.8923611111111112\n",
            "Validation  loss 0.3646093017438002 accuracy 0.8694444444444445\n",
            "\n",
            "Epoch 4/5\n",
            "----------\n",
            "Train loss 0.2465838827441136 accuracy 0.8984027777777778\n",
            "Validation  loss 0.3666645875364019 accuracy 0.8755555555555555\n",
            "\n",
            "Epoch 5/5\n",
            "----------\n",
            "Train loss 0.23402568381693628 accuracy 0.9018055555555555\n",
            "Validation  loss 0.3641291885522374 accuracy 0.8788888888888889\n",
            "\n",
            "CPU times: user 8min 31s, sys: 3min 51s, total: 12min 22s\n",
            "Wall time: 12min 28s\n"
          ],
          "name": "stdout"
        }
      ]
    },
    {
      "cell_type": "markdown",
      "metadata": {
        "id": "g52g_vk1EMti",
        "colab_type": "text"
      },
      "source": [
        "We got 87.88 % validation accuracy for 5 epochs, not bad.The number of epochs \n",
        "can be increased to get higher validation accuracy.\n"
      ]
    },
    {
      "cell_type": "markdown",
      "metadata": {
        "id": "QvviCPDrEmDg",
        "colab_type": "text"
      },
      "source": [
        "Let's look at training vs validation accuracy:"
      ]
    },
    {
      "cell_type": "code",
      "metadata": {
        "id": "bQFi5vwbpSnL",
        "colab_type": "code",
        "colab": {
          "base_uri": "https://localhost:8080/",
          "height": 415
        },
        "outputId": "4d0c88ce-e28a-40b1-b2a2-47e179c3d719"
      },
      "source": [
        "plt.plot(history['train_acc'], label='train accuracy')\n",
        "plt.plot(history['val_acc'], label='validation accuracy')\n",
        "plt.title('Training history')\n",
        "plt.ylabel('Accuracy')\n",
        "plt.xlabel('Epoch')\n",
        "plt.legend()\n",
        "plt.ylim([0, 1]);"
      ],
      "execution_count": 36,
      "outputs": [
        {
          "output_type": "display_data",
          "data": {
            "image/png": "[encoded data removed]",
            "text/plain": [
              "<Figure size 864x432 with 1 Axes>"
            ]
          },
          "metadata": {
            "tags": [],
            "image/png": {
              "width": 732,
              "height": 398
            }
          }
        }
      ]
    },
    {
      "cell_type": "markdown",
      "metadata": {
        "id": "c92Wb927FZ_Z",
        "colab_type": "text"
      },
      "source": [
        "# Model Evaluation"
      ]
    },
    {
      "cell_type": "markdown",
      "metadata": {
        "id": "2VcarWtkFd_p",
        "colab_type": "text"
      },
      "source": [
        "Let's see how good our model on unseen data."
      ]
    },
    {
      "cell_type": "code",
      "metadata": {
        "id": "Rv8baMsxFo8k",
        "colab_type": "code",
        "colab": {}
      },
      "source": [
        "test_acc, _ = eval_model(\n",
        "  model,\n",
        "  test_DataLoader,\n",
        "  device,\n",
        "  loss_fn,\n",
        "  len(df_test)\n",
        ")"
      ],
      "execution_count": 37,
      "outputs": []
    },
    {
      "cell_type": "code",
      "metadata": {
        "id": "fQXaR1XXGHc4",
        "colab_type": "code",
        "colab": {
          "base_uri": "https://localhost:8080/",
          "height": 34
        },
        "outputId": "fded0828-b3ee-475b-fd03-12524c235574"
      },
      "source": [
        "test_acc.item()"
      ],
      "execution_count": 38,
      "outputs": [
        {
          "output_type": "execute_result",
          "data": {
            "text/plain": [
              "0.8833333333333333"
            ]
          },
          "metadata": {
            "tags": []
          },
          "execution_count": 38
        }
      ]
    },
    {
      "cell_type": "markdown",
      "metadata": {
        "id": "e8Zom0iJGQnE",
        "colab_type": "text"
      },
      "source": [
        "That is model performing well on test data, we are getting 88.33% accuracy which is 0.45% more than validation accuracy. It seems model is generalizing well."
      ]
    },
    {
      "cell_type": "markdown",
      "metadata": {
        "id": "vmRL97lZFmjd",
        "colab_type": "text"
      },
      "source": [
        "Now we will write helper function to get the predictions from our model:"
      ]
    },
    {
      "cell_type": "code",
      "metadata": {
        "id": "sVy4mBJXuyPN",
        "colab_type": "code",
        "colab": {}
      },
      "source": [
        "def get_predictions(model, data_loader):\n",
        "  model = model.eval()\n",
        "  review_texts = []\n",
        "  predictions = []\n",
        "  prediction_probs = []\n",
        "  real_values = []\n",
        "\n",
        "  with torch.no_grad():\n",
        "    for d in data_loader:\n",
        "      texts = d[\"review_text\"]\n",
        "      input_ids = d[\"input_ids\"].to(device)\n",
        "      attention_mask = d[\"attention_mask\"].to(device)\n",
        "      targets = d[\"targets\"].to(device)\n",
        "      outputs = model(\n",
        "        input_ids=input_ids,\n",
        "        attention_mask=attention_mask\n",
        "      )\n",
        "      _, preds = torch.max(outputs, dim=1)\n",
        "      review_texts.extend(texts)\n",
        "      predictions.extend(preds)\n",
        "      prediction_probs.extend(outputs)\n",
        "      real_values.extend(targets)\n",
        "\n",
        "  predictions = torch.stack(predictions).cpu()\n",
        "  prediction_probs = torch.stack(prediction_probs).cpu()\n",
        "  real_values = torch.stack(real_values).cpu()\n",
        "  return review_texts, predictions, prediction_probs, real_values"
      ],
      "execution_count": 39,
      "outputs": []
    },
    {
      "cell_type": "code",
      "metadata": {
        "id": "LPv0RdZ5v3ya",
        "colab_type": "code",
        "colab": {}
      },
      "source": [
        "y_review_texts, y_pred, y_pred_probs, y_test = get_predictions(\n",
        "  model,\n",
        "  test_DataLoader\n",
        ")"
      ],
      "execution_count": 40,
      "outputs": []
    },
    {
      "cell_type": "markdown",
      "metadata": {
        "id": "JuCRh59_HLF2",
        "colab_type": "text"
      },
      "source": [
        "Let's have a look at the classification report:"
      ]
    },
    {
      "cell_type": "code",
      "metadata": {
        "id": "GFRfQj2ByCn_",
        "colab_type": "code",
        "colab": {
          "base_uri": "https://localhost:8080/",
          "height": 170
        },
        "outputId": "427512d6-d692-48a4-cf7f-a161f18ff5be"
      },
      "source": [
        "class_report=classification_report(y_test, y_pred, target_names=class_names)\n",
        "print(class_report)"
      ],
      "execution_count": 41,
      "outputs": [
        {
          "output_type": "stream",
          "text": [
            "              precision    recall  f1-score   support\n",
            "\n",
            "    Negative       0.94      0.72      0.82       645\n",
            "    Positive       0.86      0.97      0.91      1155\n",
            "\n",
            "    accuracy                           0.88      1800\n",
            "   macro avg       0.90      0.85      0.87      1800\n",
            "weighted avg       0.89      0.88      0.88      1800\n",
            "\n"
          ],
          "name": "stdout"
        }
      ]
    },
    {
      "cell_type": "markdown",
      "metadata": {
        "id": "CtOjbPbi24Wk",
        "colab_type": "text"
      },
      "source": [
        "We are getting f1-score=0.88, not bad. This model can be fine tuned further to get high f1-scores."
      ]
    },
    {
      "cell_type": "markdown",
      "metadata": {
        "id": "FS8vz7AHHZkG",
        "colab_type": "text"
      },
      "source": [
        "Now will plot confusion matrix:"
      ]
    },
    {
      "cell_type": "code",
      "metadata": {
        "id": "BwqN9AkOy4dm",
        "colab_type": "code",
        "colab": {
          "base_uri": "https://localhost:8080/",
          "height": 425
        },
        "outputId": "7b99b1ee-9db1-462c-f954-41b63927f8c2"
      },
      "source": [
        "def show_confusion_matrix(confusion_matrix):\n",
        "  hmap = sns.heatmap(confusion_matrix, annot=True, fmt=\"d\", cmap=\"Blues\")\n",
        "  hmap.yaxis.set_ticklabels(hmap.yaxis.get_ticklabels(),rotation=0, ha='right')\n",
        "  hmap.xaxis.set_ticklabels(hmap.xaxis.get_ticklabels(),rotation=30, ha='right')\n",
        "  plt.ylabel('True sentiment')\n",
        "  plt.xlabel('Predicted sentiment');\n",
        "cm = confusion_matrix(y_test, y_pred)\n",
        "df_cm = pd.DataFrame(cm, index=class_names, columns=class_names)\n",
        "show_confusion_matrix(df_cm)"
      ],
      "execution_count": 42,
      "outputs": [
        {
          "output_type": "display_data",
          "data": {
            "image/png": "[encoded data removed]",
            "text/plain": [
              "<Figure size 864x432 with 2 Axes>"
            ]
          },
          "metadata": {
            "tags": [],
            "image/png": {
              "width": 729,
              "height": 408
            }
          }
        }
      ]
    },
    {
      "cell_type": "markdown",
      "metadata": {
        "id": "Zj-2Cthj46nT",
        "colab_type": "text"
      },
      "source": [
        "This confirms our model having difficulty in classifying negative reviews. This is because the classes were imbalanced i.e., the number of positive classes more than negative. This imbalanced data made model biased towards positive class, so it is not classifying negative reviews correctly. This can be avoided with balanced data & also classes can be balanced using sampling methods such as SMOTE."
      ]
    },
    {
      "cell_type": "markdown",
      "metadata": {
        "id": "V7128Wsa-PtU",
        "colab_type": "text"
      },
      "source": [
        "### Plot PR (Precesion-Recall) curve"
      ]
    },
    {
      "cell_type": "markdown",
      "metadata": {
        "id": "oNhARlf6-bo2",
        "colab_type": "text"
      },
      "source": [
        "PR curve is an intuitive measure when evaluating binary classifiers on imbalanced datasets. Since the classes are imbalanced in our data, we are using PR curve as a metric for model evaluation."
      ]
    },
    {
      "cell_type": "code",
      "metadata": {
        "id": "Nyl3LWN7QFAu",
        "colab_type": "code",
        "colab": {
          "base_uri": "https://localhost:8080/",
          "height": 398
        },
        "outputId": "700b5426-152b-443f-f66f-91753d57d613"
      },
      "source": [
        "# calculate model precision-recall curve\n",
        "precision, recall, _ = precision_recall_curve(y_test, y_pred)\n",
        "# plot the model precision-recall curve\n",
        "plt.plot(recall, precision, marker='.', label='BERT')\n",
        "# axis labels\n",
        "plt.xlabel('Recall')\n",
        "plt.ylabel('Precision')\n",
        "# show the legend\n",
        "plt.legend()\n",
        "# show the plot\n",
        "plt.show()"
      ],
      "execution_count": 43,
      "outputs": [
        {
          "output_type": "display_data",
          "data": {
            "image/png": "[encoded data removed]",
            "text/plain": [
              "<Figure size 864x432 with 1 Axes>"
            ]
          },
          "metadata": {
            "tags": [],
            "image/png": {
              "width": 740,
              "height": 381
            }
          }
        }
      ]
    },
    {
      "cell_type": "code",
      "metadata": {
        "id": "lVNRAQtBN5TV",
        "colab_type": "code",
        "colab": {
          "base_uri": "https://localhost:8080/",
          "height": 34
        },
        "outputId": "c9ed6ce6-8f06-46f3-f3e2-fcc65527799a"
      },
      "source": [
        "#Calculate AUC_score for PR curve\n",
        "auc_score = auc(recall, precision)\n",
        "print('PR AUC_score: %.3f' % auc_score)"
      ],
      "execution_count": 44,
      "outputs": [
        {
          "output_type": "stream",
          "text": [
            "PR AUC_score: 0.927\n"
          ],
          "name": "stdout"
        }
      ]
    },
    {
      "cell_type": "markdown",
      "metadata": {
        "id": "GIpeUaRewWRT",
        "colab_type": "text"
      },
      "source": [
        "We are getting Area under the curve (AUC) for precision-recall curve is 0.927, this is good enough for model to generalize well on unseen imbalanced dataset."
      ]
    },
    {
      "cell_type": "markdown",
      "metadata": {
        "id": "29rkmAt92MST",
        "colab_type": "text"
      },
      "source": [
        "Now let's have a look at an example from our test data:"
      ]
    },
    {
      "cell_type": "code",
      "metadata": {
        "id": "mzcqLA3xv8UI",
        "colab_type": "code",
        "colab": {
          "base_uri": "https://localhost:8080/",
          "height": 102
        },
        "outputId": "8d5ac38d-ef22-406a-b4cc-a21ec54f2071"
      },
      "source": [
        "review_text=y_review_texts[1]\n",
        "true_sentiment=y_test[1]\n",
        "pred_df=pd.DataFrame({\n",
        "    'class_names':class_names,\n",
        "    'values':y_pred_probs[1]\n",
        "})\n",
        "\n",
        "print('\\n'.join(wrap(review_text)))\n",
        "print()\n",
        "print(f'True Sentiment : {class_names[true_sentiment]}')"
      ],
      "execution_count": 45,
      "outputs": [
        {
          "output_type": "stream",
          "text": [
            "best chatting app in the world.....my all time favourite app i am in\n",
            "love with telegram just awesome app thanks to the all developer to\n",
            "develop app and latest features.\n",
            "\n",
            "True Sentiment : Positive\n"
          ],
          "name": "stdout"
        }
      ]
    },
    {
      "cell_type": "markdown",
      "metadata": {
        "id": "xbYjpVvI4P8U",
        "colab_type": "text"
      },
      "source": [
        "Now we look at the confidence of each sentiemt of our model:"
      ]
    },
    {
      "cell_type": "code",
      "metadata": {
        "id": "svoAG2wZ39Pw",
        "colab_type": "code",
        "colab": {
          "base_uri": "https://localhost:8080/",
          "height": 398
        },
        "outputId": "0d96ebc3-e16a-4132-d863-79faf3de2b90"
      },
      "source": [
        "sns.barplot(x='values',y='class_names',data=pred_df,orient='h')\n",
        "plt.xlabel('Probability')\n",
        "plt.ylabel('Sentiment')\n",
        "plt.xlim([0,1]);"
      ],
      "execution_count": 46,
      "outputs": [
        {
          "output_type": "display_data",
          "data": {
            "image/png": "[encoded data removed]",
            "text/plain": [
              "<Figure size 864x432 with 1 Axes>"
            ]
          },
          "metadata": {
            "tags": [],
            "image/png": {
              "width": 781,
              "height": 381
            }
          }
        }
      ]
    },
    {
      "cell_type": "markdown",
      "metadata": {
        "id": "7Ek3MDBi6KId",
        "colab_type": "text"
      },
      "source": [
        "## Predicting on Raw text"
      ]
    },
    {
      "cell_type": "markdown",
      "metadata": {
        "id": "Tccgy1eF6R4z",
        "colab_type": "text"
      },
      "source": [
        "Let's us use our model to predict sentiment on raw text:"
      ]
    },
    {
      "cell_type": "code",
      "metadata": {
        "id": "NMSZT3UC5Iq-",
        "colab_type": "code",
        "colab": {}
      },
      "source": [
        "review_text='Fake Fake Fake Fake Fake, Please be aware of them, they are very dangerous people please be aware of them. \\\n",
        "They ask your pan and aadhara number for interview, the ppl who calls are unprofessional they talk rubbish and try to trap you in pit'"
      ],
      "execution_count": 47,
      "outputs": []
    },
    {
      "cell_type": "markdown",
      "metadata": {
        "id": "et60ZTxn7UXE",
        "colab_type": "text"
      },
      "source": [
        "Now use the tokenizer to encode the raw text:"
      ]
    },
    {
      "cell_type": "code",
      "metadata": {
        "id": "cKskY6YQ7TlU",
        "colab_type": "code",
        "colab": {}
      },
      "source": [
        "encoded_review=tokenizer.encode_plus(\n",
        "    review_text,\n",
        "    max_length=Max_length,\n",
        "    add_special_tokens=True,\n",
        "    return_token_type_ids=False,\n",
        "    pad_to_max_length=True,\n",
        "    truncation=True,\n",
        "    return_attention_mask=True,\n",
        "    return_tensors='pt'\n",
        ")"
      ],
      "execution_count": 48,
      "outputs": []
    },
    {
      "cell_type": "markdown",
      "metadata": {
        "id": "Zz7H4y9881tZ",
        "colab_type": "text"
      },
      "source": [
        "Let's get predictions from our model:"
      ]
    },
    {
      "cell_type": "code",
      "metadata": {
        "id": "NmPQhTX98dnn",
        "colab_type": "code",
        "colab": {
          "base_uri": "https://localhost:8080/",
          "height": 71
        },
        "outputId": "510877fd-7a99-4d4f-e993-3ad3c0e3b6a7"
      },
      "source": [
        "input_ids=encoded_review['input_ids'].to(device)\n",
        "attention_mask=encoded_review['attention_mask'].to(device)\n",
        "\n",
        "output=model(input_ids,attention_mask)\n",
        "_,pred=torch.max(output,dim=1)\n",
        "\n",
        "print(f'Review_text : {review_text}')\n",
        "print(f'Sentiment: {class_names[pred]}')"
      ],
      "execution_count": 49,
      "outputs": [
        {
          "output_type": "stream",
          "text": [
            "Review_text : Fake Fake Fake Fake Fake, Please be aware of them, they are very dangerous people please be aware of them. They ask your pan and aadhara number for interview, the ppl who calls are unprofessional they talk rubbish and try to trap you in pit\n",
            "Sentiment: Negative\n"
          ],
          "name": "stdout"
        }
      ]
    },
    {
      "cell_type": "markdown",
      "metadata": {
        "id": "iFilh7t6-Fdm",
        "colab_type": "text"
      },
      "source": [
        "Wow, our model is generalizing well. This model can be fine tuned further to improve its performance."
      ]
    },
    {
      "cell_type": "markdown",
      "metadata": {
        "id": "IKQW8bZE6d2k",
        "colab_type": "text"
      },
      "source": [
        "## Save our model in Google drive\n"
      ]
    },
    {
      "cell_type": "code",
      "metadata": {
        "id": "ZwvaOkES7u_U",
        "colab_type": "code",
        "colab": {}
      },
      "source": [
        "model_name= 'Sentiment_Analysis_Bert.pt'          \n",
        "path=\"/content/drive/My Drive/Colab Notebooks/Models/model_name\"\n",
        "torch.save(model.state_dict(),path)"
      ],
      "execution_count": 50,
      "outputs": []
    },
    {
      "cell_type": "markdown",
      "metadata": {
        "id": "ywUCyAo_-Zqz",
        "colab_type": "text"
      },
      "source": [
        "## References:\n",
        "\n",
        "* [Sentiment analysis with BERT](https://www.curiousily.com/posts/sentiment-analysis-with-bert-and-hugging-face-using-pytorch-and-python/#data-preprocessing)\n",
        "* [ROC & PR curves for imbalanced datasets](https://machinelearningmastery.com/roc-curves-and-precision-recall-curves-for-imbalanced-classification/)\n",
        "* [Evaluation Metrics, ROC-Curves and imbalanced datasets](http://www.davidsbatista.net/blog/2018/08/19/NLP_Metrics/#:~:text=The%20curve%20is%20a%20plot,false%20positives%20and%20false%20negatives.)"
      ]
    }
  ]
}